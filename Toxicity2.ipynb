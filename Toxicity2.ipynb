{
 "cells": [
  {
   "cell_type": "markdown",
   "metadata": {},
   "source": [
    "# 0. Install Dependencies and Bring in Data"
   ]
  },
  {
   "cell_type": "code",
   "execution_count": 4,
   "metadata": {
    "tags": []
   },
   "outputs": [],
   "source": [
    "#!pip install tensorflow tensorflow-gpu pandas matplotlib sklearn"
   ]
  },
  {
   "cell_type": "code",
   "execution_count": 5,
   "metadata": {
    "tags": []
   },
   "outputs": [],
   "source": [
    "import os\n",
    "import pandas as pd\n",
    "import tensorflow as tf\n",
    "import numpy as np"
   ]
  },
  {
   "cell_type": "code",
   "execution_count": 6,
   "metadata": {
    "tags": []
   },
   "outputs": [],
   "source": [
    "df = pd.read_csv(os.path.join('jigsaw-toxic-comment-classification-challenge','train.csv', 'train.csv'))"
   ]
  },
  {
   "cell_type": "code",
   "execution_count": 7,
   "metadata": {
    "tags": []
   },
   "outputs": [
    {
     "data": {
      "text/html": [
       "<div>\n",
       "<style scoped>\n",
       "    .dataframe tbody tr th:only-of-type {\n",
       "        vertical-align: middle;\n",
       "    }\n",
       "\n",
       "    .dataframe tbody tr th {\n",
       "        vertical-align: top;\n",
       "    }\n",
       "\n",
       "    .dataframe thead th {\n",
       "        text-align: right;\n",
       "    }\n",
       "</style>\n",
       "<table border=\"1\" class=\"dataframe\">\n",
       "  <thead>\n",
       "    <tr style=\"text-align: right;\">\n",
       "      <th></th>\n",
       "      <th>id</th>\n",
       "      <th>comment_text</th>\n",
       "      <th>toxic</th>\n",
       "      <th>severe_toxic</th>\n",
       "      <th>obscene</th>\n",
       "      <th>threat</th>\n",
       "      <th>insult</th>\n",
       "      <th>identity_hate</th>\n",
       "    </tr>\n",
       "  </thead>\n",
       "  <tbody>\n",
       "    <tr>\n",
       "      <th>0</th>\n",
       "      <td>0000997932d777bf</td>\n",
       "      <td>Explanation\\nWhy the edits made under my usern...</td>\n",
       "      <td>0</td>\n",
       "      <td>0</td>\n",
       "      <td>0</td>\n",
       "      <td>0</td>\n",
       "      <td>0</td>\n",
       "      <td>0</td>\n",
       "    </tr>\n",
       "    <tr>\n",
       "      <th>1</th>\n",
       "      <td>000103f0d9cfb60f</td>\n",
       "      <td>D'aww! He matches this background colour I'm s...</td>\n",
       "      <td>0</td>\n",
       "      <td>0</td>\n",
       "      <td>0</td>\n",
       "      <td>0</td>\n",
       "      <td>0</td>\n",
       "      <td>0</td>\n",
       "    </tr>\n",
       "    <tr>\n",
       "      <th>2</th>\n",
       "      <td>000113f07ec002fd</td>\n",
       "      <td>Hey man, I'm really not trying to edit war. It...</td>\n",
       "      <td>0</td>\n",
       "      <td>0</td>\n",
       "      <td>0</td>\n",
       "      <td>0</td>\n",
       "      <td>0</td>\n",
       "      <td>0</td>\n",
       "    </tr>\n",
       "    <tr>\n",
       "      <th>3</th>\n",
       "      <td>0001b41b1c6bb37e</td>\n",
       "      <td>\"\\nMore\\nI can't make any real suggestions on ...</td>\n",
       "      <td>0</td>\n",
       "      <td>0</td>\n",
       "      <td>0</td>\n",
       "      <td>0</td>\n",
       "      <td>0</td>\n",
       "      <td>0</td>\n",
       "    </tr>\n",
       "    <tr>\n",
       "      <th>4</th>\n",
       "      <td>0001d958c54c6e35</td>\n",
       "      <td>You, sir, are my hero. Any chance you remember...</td>\n",
       "      <td>0</td>\n",
       "      <td>0</td>\n",
       "      <td>0</td>\n",
       "      <td>0</td>\n",
       "      <td>0</td>\n",
       "      <td>0</td>\n",
       "    </tr>\n",
       "  </tbody>\n",
       "</table>\n",
       "</div>"
      ],
      "text/plain": [
       "                 id                                       comment_text  toxic  \\\n",
       "0  0000997932d777bf  Explanation\\nWhy the edits made under my usern...      0   \n",
       "1  000103f0d9cfb60f  D'aww! He matches this background colour I'm s...      0   \n",
       "2  000113f07ec002fd  Hey man, I'm really not trying to edit war. It...      0   \n",
       "3  0001b41b1c6bb37e  \"\\nMore\\nI can't make any real suggestions on ...      0   \n",
       "4  0001d958c54c6e35  You, sir, are my hero. Any chance you remember...      0   \n",
       "\n",
       "   severe_toxic  obscene  threat  insult  identity_hate  \n",
       "0             0        0       0       0              0  \n",
       "1             0        0       0       0              0  \n",
       "2             0        0       0       0              0  \n",
       "3             0        0       0       0              0  \n",
       "4             0        0       0       0              0  "
      ]
     },
     "execution_count": 7,
     "metadata": {},
     "output_type": "execute_result"
    }
   ],
   "source": [
    "df.head()"
   ]
  },
  {
   "cell_type": "markdown",
   "metadata": {},
   "source": [
    "# 1. Preprocess"
   ]
  },
  {
   "cell_type": "code",
   "execution_count": 5,
   "metadata": {
    "tags": []
   },
   "outputs": [
    {
     "name": "stdout",
     "output_type": "stream",
     "text": [
      "Package                   Version\n",
      "------------------------- ------------\n",
      "absl-py                   1.4.0\n",
      "aiohttp                   3.9.0\n",
      "aiosignal                 1.2.0\n",
      "anyio                     3.5.0\n",
      "argon2-cffi               21.3.0\n",
      "argon2-cffi-bindings      21.2.0\n",
      "asttokens                 2.0.5\n",
      "astunparse                1.6.3\n",
      "async-lru                 2.0.4\n",
      "async-timeout             4.0.2\n",
      "attrs                     23.1.0\n",
      "Babel                     2.11.0\n",
      "backcall                  0.2.0\n",
      "beautifulsoup4            4.12.2\n",
      "bleach                    4.1.0\n",
      "blinker                   1.6.2\n",
      "Bottleneck                1.3.5\n",
      "Brotli                    1.0.9\n",
      "cachetools                4.2.2\n",
      "certifi                   2023.11.17\n",
      "cffi                      1.16.0\n",
      "charset-normalizer        2.0.4\n",
      "click                     8.1.7\n",
      "colorama                  0.4.6\n",
      "comm                      0.1.2\n",
      "contourpy                 1.2.0\n",
      "cryptography              41.0.3\n",
      "cycler                    0.11.0\n",
      "debugpy                   1.6.7\n",
      "decorator                 5.1.1\n",
      "defusedxml                0.7.1\n",
      "exceptiongroup            1.0.4\n",
      "executing                 0.8.3\n",
      "fastjsonschema            2.16.2\n",
      "flatbuffers               2.0\n",
      "fonttools                 4.25.0\n",
      "frozenlist                1.4.0\n",
      "gast                      0.4.0\n",
      "google-auth               2.22.0\n",
      "google-auth-oauthlib      0.4.4\n",
      "google-pasta              0.2.0\n",
      "grpcio                    1.48.2\n",
      "h5py                      3.9.0\n",
      "idna                      3.4\n",
      "ipykernel                 6.25.0\n",
      "ipython                   8.15.0\n",
      "jedi                      0.18.1\n",
      "Jinja2                    3.1.2\n",
      "json5                     0.9.6\n",
      "jsonschema                4.19.2\n",
      "jsonschema-specifications 2023.7.1\n",
      "jupyter_client            8.6.0\n",
      "jupyter_core              5.5.0\n",
      "jupyter-events            0.8.0\n",
      "jupyter-lsp               2.2.0\n",
      "jupyter_server            2.10.0\n",
      "jupyter_server_terminals  0.4.4\n",
      "jupyterlab                4.0.8\n",
      "jupyterlab-pygments       0.1.2\n",
      "jupyterlab_server         2.25.1\n",
      "keras                     2.10.0\n",
      "Keras-Preprocessing       1.1.2\n",
      "kiwisolver                1.4.4\n",
      "Markdown                  3.4.1\n",
      "MarkupSafe                2.1.1\n",
      "matplotlib                3.8.0\n",
      "matplotlib-inline         0.1.6\n",
      "mistune                   2.0.4\n",
      "mkl-fft                   1.3.8\n",
      "mkl-random                1.2.4\n",
      "mkl-service               2.4.0\n",
      "multidict                 6.0.4\n",
      "munkres                   1.1.4\n",
      "nbclient                  0.8.0\n",
      "nbconvert                 7.10.0\n",
      "nbformat                  5.9.2\n",
      "nest-asyncio              1.5.6\n",
      "notebook                  7.0.6\n",
      "notebook_shim             0.2.3\n",
      "numexpr                   2.8.7\n",
      "numpy                     1.26.2\n",
      "oauthlib                  3.2.2\n",
      "opt-einsum                3.3.0\n",
      "overrides                 7.4.0\n",
      "packaging                 23.1\n",
      "pandas                    2.1.4\n",
      "pandocfilters             1.5.0\n",
      "parso                     0.8.3\n",
      "pickleshare               0.7.5\n",
      "Pillow                    10.0.1\n",
      "pip                       23.3.1\n",
      "platformdirs              3.10.0\n",
      "ply                       3.11\n",
      "prometheus-client         0.14.1\n",
      "prompt-toolkit            3.0.36\n",
      "protobuf                  3.20.3\n",
      "psutil                    5.9.0\n",
      "pure-eval                 0.2.2\n",
      "pyasn1                    0.4.8\n",
      "pyasn1-modules            0.2.8\n",
      "pycparser                 2.21\n",
      "Pygments                  2.15.1\n",
      "PyJWT                     2.4.0\n",
      "pyOpenSSL                 23.2.0\n",
      "pyparsing                 3.0.9\n",
      "PyQt5                     5.15.10\n",
      "PyQt5-sip                 12.13.0\n",
      "PySocks                   1.7.1\n",
      "python-dateutil           2.8.2\n",
      "python-json-logger        2.0.7\n",
      "pytz                      2023.3.post1\n",
      "pywin32                   305.1\n",
      "pywinpty                  2.0.10\n",
      "PyYAML                    6.0.1\n",
      "pyzmq                     25.1.0\n",
      "referencing               0.30.2\n",
      "requests                  2.31.0\n",
      "requests-oauthlib         1.3.0\n",
      "rfc3339-validator         0.1.4\n",
      "rfc3986-validator         0.1.1\n",
      "rpds-py                   0.10.6\n",
      "rsa                       4.7.2\n",
      "scipy                     1.11.4\n",
      "Send2Trash                1.8.2\n",
      "setuptools                68.0.0\n",
      "sip                       6.7.12\n",
      "six                       1.16.0\n",
      "sniffio                   1.2.0\n",
      "soupsieve                 2.5\n",
      "stack-data                0.2.0\n",
      "tensorboard               2.10.0\n",
      "tensorboard-data-server   0.6.1\n",
      "tensorboard-plugin-wit    1.8.1\n",
      "tensorflow                2.10.0\n",
      "tensorflow-estimator      2.10.0\n",
      "termcolor                 2.1.0\n",
      "terminado                 0.17.1\n",
      "tinycss2                  1.2.1\n",
      "tomli                     2.0.1\n",
      "tornado                   6.3.3\n",
      "traitlets                 5.7.1\n",
      "typing_extensions         4.7.1\n",
      "tzdata                    2023.3\n",
      "urllib3                   1.26.18\n",
      "wcwidth                   0.2.5\n",
      "webencodings              0.5.1\n",
      "websocket-client          0.58.0\n",
      "Werkzeug                  2.2.3\n",
      "wheel                     0.41.2\n",
      "win-inet-pton             1.1.0\n",
      "wrapt                     1.14.1\n",
      "yarl                      1.9.3\n"
     ]
    }
   ],
   "source": [
    "!pip list"
   ]
  },
  {
   "cell_type": "code",
   "execution_count": 8,
   "metadata": {
    "tags": []
   },
   "outputs": [],
   "source": [
    "from tensorflow.keras.layers import TextVectorization"
   ]
  },
  {
   "cell_type": "code",
   "execution_count": 9,
   "metadata": {
    "tags": []
   },
   "outputs": [],
   "source": [
    "X = df['comment_text']\n",
    "y = df[df.columns[2:]].values"
   ]
  },
  {
   "cell_type": "code",
   "execution_count": 16,
   "metadata": {
    "tags": []
   },
   "outputs": [],
   "source": [
    "MAX_FEATURES = 2000 # number of words in the vocab"
   ]
  },
  {
   "cell_type": "code",
   "execution_count": 17,
   "metadata": {
    "tags": []
   },
   "outputs": [],
   "source": [
    "vectorizer = TextVectorization(max_tokens=MAX_FEATURES,\n",
    "                               output_sequence_length=1800,\n",
    "                               output_mode='int')"
   ]
  },
  {
   "cell_type": "code",
   "execution_count": 18,
   "metadata": {
    "tags": []
   },
   "outputs": [],
   "source": [
    "vectorizer.adapt(X.values)"
   ]
  },
  {
   "cell_type": "code",
   "execution_count": null,
   "metadata": {
    "tags": []
   },
   "outputs": [],
   "source": [
    "vectorized_text = vectorizer(X.values)"
   ]
  },
  {
   "cell_type": "code",
   "execution_count": null,
   "metadata": {
    "tags": []
   },
   "outputs": [],
   "source": [
    "#MCSHBAP - map, chache, shuffle, batch, prefetch  from_tensor_slices, list_file\n",
    "dataset = tf.data.Dataset.from_tensor_slices((vectorized_text, y))\n",
    "dataset = dataset.cache()\n",
    "dataset = dataset.shuffle(160000)\n",
    "dataset = dataset.batch(16)\n",
    "dataset = dataset.prefetch(8) # helps bottlenecks"
   ]
  },
  {
   "cell_type": "code",
   "execution_count": null,
   "metadata": {
    "tags": []
   },
   "outputs": [],
   "source": [
    "train = dataset.take(int(len(dataset)*.7))\n",
    "val = dataset.skip(int(len(dataset)*.7)).take(int(len(dataset)*.2))\n",
    "test = dataset.skip(int(len(dataset)*.9)).take(int(len(dataset)*.1))"
   ]
  },
  {
   "cell_type": "markdown",
   "metadata": {},
   "source": [
    "# 2. Create Sequential Model"
   ]
  },
  {
   "cell_type": "code",
   "execution_count": null,
   "metadata": {
    "tags": []
   },
   "outputs": [],
   "source": [
    "from tensorflow.keras.models import Sequential\n",
    "from tensorflow.keras.layers import LSTM, Dropout, Bidirectional, Dense, Embedding"
   ]
  },
  {
   "cell_type": "code",
   "execution_count": null,
   "metadata": {
    "tags": []
   },
   "outputs": [],
   "source": [
    "model = Sequential()\n",
    "# Create the embedding layer \n",
    "model.add(Embedding(MAX_FEATURES+1, 32))\n",
    "# Bidirectional LSTM Layer\n",
    "model.add(Bidirectional(LSTM(32, activation='tanh')))\n",
    "# Feature extractor Fully connected layers\n",
    "model.add(Dense(128, activation='relu'))\n",
    "model.add(Dense(256, activation='relu'))\n",
    "model.add(Dense(128, activation='relu'))\n",
    "# Final layer \n",
    "model.add(Dense(6, activation='sigmoid'))"
   ]
  },
  {
   "cell_type": "code",
   "execution_count": null,
   "metadata": {
    "tags": []
   },
   "outputs": [],
   "source": [
    "model.compile(loss='BinaryCrossentropy', optimizer='Adam')"
   ]
  },
  {
   "cell_type": "code",
   "execution_count": null,
   "metadata": {
    "tags": []
   },
   "outputs": [],
   "source": [
    "model.summary()"
   ]
  },
  {
   "cell_type": "code",
   "execution_count": null,
   "metadata": {
    "tags": []
   },
   "outputs": [],
   "source": [
    "history = model.fit(train, epochs=1, validation_data=val)"
   ]
  },
  {
   "cell_type": "code",
   "execution_count": null,
   "metadata": {
    "tags": []
   },
   "outputs": [],
   "source": [
    "from matplotlib import pyplot as plt"
   ]
  },
  {
   "cell_type": "code",
   "execution_count": null,
   "metadata": {
    "tags": []
   },
   "outputs": [],
   "source": [
    "plt.figure(figsize=(8,5))\n",
    "pd.DataFrame(history.history).plot()\n",
    "plt.show()"
   ]
  },
  {
   "cell_type": "markdown",
   "metadata": {},
   "source": [
    "# 3. Make Predictions"
   ]
  },
  {
   "cell_type": "code",
   "execution_count": null,
   "metadata": {
    "tags": []
   },
   "outputs": [],
   "source": [
    "input_text = vectorizer('You freaking suck! I am going to hit you.')"
   ]
  },
  {
   "cell_type": "code",
   "execution_count": null,
   "metadata": {
    "tags": []
   },
   "outputs": [],
   "source": [
    "res = model.predict(input_text)"
   ]
  },
  {
   "cell_type": "code",
   "execution_count": null,
   "metadata": {
    "jupyter": {
     "source_hidden": true
    }
   },
   "outputs": [],
   "source": [
    "(res > 0.5).astype(int)"
   ]
  },
  {
   "cell_type": "code",
   "execution_count": null,
   "metadata": {},
   "outputs": [],
   "source": [
    "batch_X, batch_y = test.as_numpy_iterator().next()"
   ]
  },
  {
   "cell_type": "code",
   "execution_count": null,
   "metadata": {
    "collapsed": true,
    "jupyter": {
     "outputs_hidden": true
    },
    "tags": []
   },
   "outputs": [],
   "source": [
    "(model.predict(batch_X) > 0.5).astype(int)"
   ]
  },
  {
   "cell_type": "code",
   "execution_count": null,
   "metadata": {},
   "outputs": [],
   "source": [
    "res.shape"
   ]
  },
  {
   "cell_type": "markdown",
   "metadata": {},
   "source": [
    "# 4. Evaluate Model"
   ]
  },
  {
   "cell_type": "code",
   "execution_count": null,
   "metadata": {
    "tags": []
   },
   "outputs": [],
   "source": [
    "from tensorflow.keras.metrics import Precision, Recall, CategoricalAccuracy"
   ]
  },
  {
   "cell_type": "code",
   "execution_count": null,
   "metadata": {
    "tags": []
   },
   "outputs": [],
   "source": [
    "pre = Precision()\n",
    "re = Recall()\n",
    "acc = CategoricalAccuracy()"
   ]
  },
  {
   "cell_type": "code",
   "execution_count": null,
   "metadata": {
    "tags": []
   },
   "outputs": [],
   "source": [
    "for batch in test.as_numpy_iterator(): \n",
    "    # Unpack the batch \n",
    "    X_true, y_true = batch\n",
    "    # Make a prediction \n",
    "    yhat = model.predict(X_true)\n",
    "    \n",
    "    # Flatten the predictions\n",
    "    y_true = y_true.flatten()\n",
    "    yhat = yhat.flatten()\n",
    "    \n",
    "    pre.update_state(y_true, yhat)\n",
    "    re.update_state(y_true, yhat)\n",
    "    acc.update_state(y_true, yhat)"
   ]
  },
  {
   "cell_type": "code",
   "execution_count": null,
   "metadata": {
    "tags": []
   },
   "outputs": [],
   "source": [
    "print(f'Precision: {pre.result().numpy()}, Recall:{re.result().numpy()}, Accuracy:{acc.result().numpy()}')"
   ]
  },
  {
   "cell_type": "markdown",
   "metadata": {},
   "source": [
    "# 5. Test and Gradio"
   ]
  },
  {
   "cell_type": "code",
   "execution_count": 8,
   "metadata": {},
   "outputs": [
    {
     "name": "stderr",
     "output_type": "stream",
     "text": [
      "The system cannot find the file specified.\n"
     ]
    }
   ],
   "source": [
    "!pip install libclang>=13.0.0 tensorflow-io-gcs-filesystem>=0.23.1 protobuf<3.20,>=3.9.2"
   ]
  },
  {
   "cell_type": "code",
   "execution_count": null,
   "metadata": {},
   "outputs": [],
   "source": [
    "!pip uninstall protobuf\n",
    "!pip install protobuf==3.9.2"
   ]
  },
  {
   "cell_type": "code",
   "execution_count": 4,
   "metadata": {
    "tags": []
   },
   "outputs": [
    {
     "name": "stdout",
     "output_type": "stream",
     "text": [
      "Collecting gradio\n",
      "  Using cached gradio-4.8.0-py3-none-any.whl.metadata (17 kB)\n",
      "Requirement already satisfied: jinja2 in c:\\users\\ons\\anaconda3\\envs\\nlp\\lib\\site-packages (3.1.2)\n",
      "Collecting aiofiles<24.0,>=22.0 (from gradio)\n",
      "  Using cached aiofiles-23.2.1-py3-none-any.whl.metadata (9.7 kB)\n",
      "Collecting altair<6.0,>=4.2.0 (from gradio)\n",
      "  Using cached altair-5.2.0-py3-none-any.whl.metadata (8.7 kB)\n",
      "Collecting fastapi (from gradio)\n",
      "  Using cached fastapi-0.105.0-py3-none-any.whl.metadata (24 kB)\n",
      "Collecting ffmpy (from gradio)\n",
      "  Using cached ffmpy-0.3.1.tar.gz (5.5 kB)\n",
      "  Preparing metadata (setup.py): started\n",
      "  Preparing metadata (setup.py): finished with status 'done'\n",
      "Collecting gradio-client==0.7.1 (from gradio)\n",
      "  Using cached gradio_client-0.7.1-py3-none-any.whl.metadata (7.1 kB)\n",
      "Collecting httpx (from gradio)\n",
      "  Using cached httpx-0.25.2-py3-none-any.whl.metadata (6.9 kB)\n",
      "Collecting huggingface-hub>=0.14.0 (from gradio)\n",
      "  Using cached huggingface_hub-0.19.4-py3-none-any.whl.metadata (14 kB)\n",
      "Collecting importlib-resources<7.0,>=1.3 (from gradio)\n",
      "  Using cached importlib_resources-6.1.1-py3-none-any.whl.metadata (4.1 kB)\n",
      "Requirement already satisfied: markupsafe~=2.0 in c:\\users\\ons\\anaconda3\\envs\\nlp\\lib\\site-packages (from gradio) (2.1.1)\n",
      "Requirement already satisfied: matplotlib~=3.0 in c:\\users\\ons\\anaconda3\\envs\\nlp\\lib\\site-packages (from gradio) (3.8.0)\n",
      "Requirement already satisfied: numpy~=1.0 in c:\\users\\ons\\anaconda3\\envs\\nlp\\lib\\site-packages (from gradio) (1.26.2)\n",
      "Collecting orjson~=3.0 (from gradio)\n",
      "  Using cached orjson-3.9.10-cp310-none-win_amd64.whl.metadata (50 kB)\n",
      "Requirement already satisfied: packaging in c:\\users\\ons\\anaconda3\\envs\\nlp\\lib\\site-packages (from gradio) (23.1)\n",
      "Requirement already satisfied: pandas<3.0,>=1.0 in c:\\users\\ons\\anaconda3\\envs\\nlp\\lib\\site-packages (from gradio) (2.1.4)\n",
      "Requirement already satisfied: pillow<11.0,>=8.0 in c:\\users\\ons\\anaconda3\\envs\\nlp\\lib\\site-packages (from gradio) (10.0.1)\n",
      "Collecting pydantic>=2.0 (from gradio)\n",
      "  Using cached pydantic-2.5.2-py3-none-any.whl.metadata (65 kB)\n",
      "Collecting pydub (from gradio)\n",
      "  Using cached pydub-0.25.1-py2.py3-none-any.whl (32 kB)\n",
      "Collecting python-multipart (from gradio)\n",
      "  Using cached python_multipart-0.0.6-py3-none-any.whl (45 kB)\n",
      "Requirement already satisfied: pyyaml<7.0,>=5.0 in c:\\users\\ons\\anaconda3\\envs\\nlp\\lib\\site-packages (from gradio) (6.0.1)\n",
      "Requirement already satisfied: requests~=2.0 in c:\\users\\ons\\anaconda3\\envs\\nlp\\lib\\site-packages (from gradio) (2.31.0)\n",
      "Collecting semantic-version~=2.0 (from gradio)\n",
      "  Using cached semantic_version-2.10.0-py2.py3-none-any.whl (15 kB)\n",
      "Collecting tomlkit==0.12.0 (from gradio)\n",
      "  Using cached tomlkit-0.12.0-py3-none-any.whl.metadata (2.7 kB)\n",
      "Collecting typer<1.0,>=0.9 (from typer[all]<1.0,>=0.9->gradio)\n",
      "  Using cached typer-0.9.0-py3-none-any.whl (45 kB)\n",
      "Requirement already satisfied: typing-extensions~=4.0 in c:\\users\\ons\\anaconda3\\envs\\nlp\\lib\\site-packages (from gradio) (4.7.1)\n",
      "Collecting uvicorn>=0.14.0 (from gradio)\n",
      "  Using cached uvicorn-0.24.0.post1-py3-none-any.whl.metadata (6.4 kB)\n",
      "Collecting fsspec (from gradio-client==0.7.1->gradio)\n",
      "  Using cached fsspec-2023.12.2-py3-none-any.whl.metadata (6.8 kB)\n",
      "Collecting websockets<12.0,>=10.0 (from gradio-client==0.7.1->gradio)\n",
      "  Using cached websockets-11.0.3-cp310-cp310-win_amd64.whl (124 kB)\n",
      "Requirement already satisfied: jsonschema>=3.0 in c:\\users\\ons\\anaconda3\\envs\\nlp\\lib\\site-packages (from altair<6.0,>=4.2.0->gradio) (4.19.2)\n",
      "Collecting toolz (from altair<6.0,>=4.2.0->gradio)\n",
      "  Using cached toolz-0.12.0-py3-none-any.whl (55 kB)\n",
      "Collecting filelock (from huggingface-hub>=0.14.0->gradio)\n",
      "  Using cached filelock-3.13.1-py3-none-any.whl.metadata (2.8 kB)\n",
      "Collecting tqdm>=4.42.1 (from huggingface-hub>=0.14.0->gradio)\n",
      "  Using cached tqdm-4.66.1-py3-none-any.whl.metadata (57 kB)\n",
      "Requirement already satisfied: contourpy>=1.0.1 in c:\\users\\ons\\anaconda3\\envs\\nlp\\lib\\site-packages (from matplotlib~=3.0->gradio) (1.2.0)\n",
      "Requirement already satisfied: cycler>=0.10 in c:\\users\\ons\\anaconda3\\envs\\nlp\\lib\\site-packages (from matplotlib~=3.0->gradio) (0.11.0)\n",
      "Requirement already satisfied: fonttools>=4.22.0 in c:\\users\\ons\\anaconda3\\envs\\nlp\\lib\\site-packages (from matplotlib~=3.0->gradio) (4.25.0)\n",
      "Requirement already satisfied: kiwisolver>=1.0.1 in c:\\users\\ons\\anaconda3\\envs\\nlp\\lib\\site-packages (from matplotlib~=3.0->gradio) (1.4.4)\n",
      "Requirement already satisfied: pyparsing>=2.3.1 in c:\\users\\ons\\anaconda3\\envs\\nlp\\lib\\site-packages (from matplotlib~=3.0->gradio) (3.0.9)\n",
      "Requirement already satisfied: python-dateutil>=2.7 in c:\\users\\ons\\anaconda3\\envs\\nlp\\lib\\site-packages (from matplotlib~=3.0->gradio) (2.8.2)\n",
      "Requirement already satisfied: pytz>=2020.1 in c:\\users\\ons\\anaconda3\\envs\\nlp\\lib\\site-packages (from pandas<3.0,>=1.0->gradio) (2023.3.post1)\n",
      "Requirement already satisfied: tzdata>=2022.1 in c:\\users\\ons\\anaconda3\\envs\\nlp\\lib\\site-packages (from pandas<3.0,>=1.0->gradio) (2023.3)\n",
      "Collecting annotated-types>=0.4.0 (from pydantic>=2.0->gradio)\n",
      "  Using cached annotated_types-0.6.0-py3-none-any.whl.metadata (12 kB)\n",
      "Collecting pydantic-core==2.14.5 (from pydantic>=2.0->gradio)\n",
      "  Using cached pydantic_core-2.14.5-cp310-none-win_amd64.whl.metadata (6.6 kB)\n",
      "Requirement already satisfied: charset-normalizer<4,>=2 in c:\\users\\ons\\anaconda3\\envs\\nlp\\lib\\site-packages (from requests~=2.0->gradio) (2.0.4)\n",
      "Requirement already satisfied: idna<4,>=2.5 in c:\\users\\ons\\anaconda3\\envs\\nlp\\lib\\site-packages (from requests~=2.0->gradio) (3.4)\n",
      "Requirement already satisfied: urllib3<3,>=1.21.1 in c:\\users\\ons\\anaconda3\\envs\\nlp\\lib\\site-packages (from requests~=2.0->gradio) (1.26.18)\n",
      "Requirement already satisfied: certifi>=2017.4.17 in c:\\users\\ons\\anaconda3\\envs\\nlp\\lib\\site-packages (from requests~=2.0->gradio) (2023.11.17)\n",
      "Requirement already satisfied: click<9.0.0,>=7.1.1 in c:\\users\\ons\\anaconda3\\envs\\nlp\\lib\\site-packages (from typer<1.0,>=0.9->typer[all]<1.0,>=0.9->gradio) (8.1.7)\n",
      "Requirement already satisfied: colorama<0.5.0,>=0.4.3 in c:\\users\\ons\\anaconda3\\envs\\nlp\\lib\\site-packages (from typer[all]<1.0,>=0.9->gradio) (0.4.6)\n",
      "Collecting shellingham<2.0.0,>=1.3.0 (from typer[all]<1.0,>=0.9->gradio)\n",
      "  Using cached shellingham-1.5.4-py2.py3-none-any.whl.metadata (3.5 kB)\n",
      "Collecting rich<14.0.0,>=10.11.0 (from typer[all]<1.0,>=0.9->gradio)\n",
      "  Using cached rich-13.7.0-py3-none-any.whl.metadata (18 kB)\n",
      "Collecting h11>=0.8 (from uvicorn>=0.14.0->gradio)\n",
      "  Using cached h11-0.14.0-py3-none-any.whl (58 kB)\n",
      "Collecting anyio<4.0.0,>=3.7.1 (from fastapi->gradio)\n",
      "  Using cached anyio-3.7.1-py3-none-any.whl.metadata (4.7 kB)\n",
      "Collecting starlette<0.28.0,>=0.27.0 (from fastapi->gradio)\n",
      "  Using cached starlette-0.27.0-py3-none-any.whl.metadata (5.8 kB)\n",
      "Collecting typing-extensions~=4.0 (from gradio)\n",
      "  Using cached typing_extensions-4.9.0-py3-none-any.whl.metadata (3.0 kB)\n",
      "Collecting httpcore==1.* (from httpx->gradio)\n",
      "  Using cached httpcore-1.0.2-py3-none-any.whl.metadata (20 kB)\n",
      "Requirement already satisfied: sniffio in c:\\users\\ons\\anaconda3\\envs\\nlp\\lib\\site-packages (from httpx->gradio) (1.2.0)\n",
      "Requirement already satisfied: exceptiongroup in c:\\users\\ons\\anaconda3\\envs\\nlp\\lib\\site-packages (from anyio<4.0.0,>=3.7.1->fastapi->gradio) (1.0.4)\n",
      "Requirement already satisfied: attrs>=22.2.0 in c:\\users\\ons\\anaconda3\\envs\\nlp\\lib\\site-packages (from jsonschema>=3.0->altair<6.0,>=4.2.0->gradio) (23.1.0)\n",
      "Requirement already satisfied: jsonschema-specifications>=2023.03.6 in c:\\users\\ons\\anaconda3\\envs\\nlp\\lib\\site-packages (from jsonschema>=3.0->altair<6.0,>=4.2.0->gradio) (2023.7.1)\n",
      "Requirement already satisfied: referencing>=0.28.4 in c:\\users\\ons\\anaconda3\\envs\\nlp\\lib\\site-packages (from jsonschema>=3.0->altair<6.0,>=4.2.0->gradio) (0.30.2)\n",
      "Requirement already satisfied: rpds-py>=0.7.1 in c:\\users\\ons\\anaconda3\\envs\\nlp\\lib\\site-packages (from jsonschema>=3.0->altair<6.0,>=4.2.0->gradio) (0.10.6)\n",
      "Requirement already satisfied: six>=1.5 in c:\\users\\ons\\anaconda3\\envs\\nlp\\lib\\site-packages (from python-dateutil>=2.7->matplotlib~=3.0->gradio) (1.16.0)\n",
      "Collecting markdown-it-py>=2.2.0 (from rich<14.0.0,>=10.11.0->typer[all]<1.0,>=0.9->gradio)\n",
      "  Using cached markdown_it_py-3.0.0-py3-none-any.whl.metadata (6.9 kB)\n",
      "Requirement already satisfied: pygments<3.0.0,>=2.13.0 in c:\\users\\ons\\anaconda3\\envs\\nlp\\lib\\site-packages (from rich<14.0.0,>=10.11.0->typer[all]<1.0,>=0.9->gradio) (2.15.1)\n",
      "Collecting mdurl~=0.1 (from markdown-it-py>=2.2.0->rich<14.0.0,>=10.11.0->typer[all]<1.0,>=0.9->gradio)\n",
      "  Using cached mdurl-0.1.2-py3-none-any.whl (10.0 kB)\n",
      "Downloading gradio-4.8.0-py3-none-any.whl (16.5 MB)\n",
      "   ---------------------------------------- 0.0/16.5 MB ? eta -:--:--\n",
      "   ---------------------------------------- 0.0/16.5 MB 660.6 kB/s eta 0:00:25\n",
      "   ---------------------------------------- 0.0/16.5 MB 667.8 kB/s eta 0:00:25\n",
      "   ---------------------------------------- 0.0/16.5 MB 667.8 kB/s eta 0:00:25\n",
      "   ---------------------------------------- 0.1/16.5 MB 299.4 kB/s eta 0:00:55\n",
      "   ---------------------------------------- 0.1/16.5 MB 469.7 kB/s eta 0:00:35\n",
      "   ---------------------------------------- 0.1/16.5 MB 469.7 kB/s eta 0:00:35\n",
      "   ---------------------------------------- 0.1/16.5 MB 469.7 kB/s eta 0:00:35\n",
      "   ---------------------------------------- 0.1/16.5 MB 370.8 kB/s eta 0:00:45\n",
      "   ---------------------------------------- 0.2/16.5 MB 454.0 kB/s eta 0:00:36\n",
      "    --------------------------------------- 0.2/16.5 MB 519.9 kB/s eta 0:00:32\n",
      "    --------------------------------------- 0.3/16.5 MB 525.1 kB/s eta 0:00:31\n",
      "    --------------------------------------- 0.3/16.5 MB 543.9 kB/s eta 0:00:30\n",
      "   - -------------------------------------- 0.4/16.5 MB 690.7 kB/s eta 0:00:24\n",
      "   - -------------------------------------- 0.4/16.5 MB 706.2 kB/s eta 0:00:23\n",
      "   - -------------------------------------- 0.4/16.5 MB 706.2 kB/s eta 0:00:23\n",
      "   - -------------------------------------- 0.4/16.5 MB 706.2 kB/s eta 0:00:23\n",
      "   - -------------------------------------- 0.4/16.5 MB 706.2 kB/s eta 0:00:23\n",
      "   - -------------------------------------- 0.5/16.5 MB 581.3 kB/s eta 0:00:28\n",
      "   - -------------------------------------- 0.5/16.5 MB 596.8 kB/s eta 0:00:27\n",
      "   - -------------------------------------- 0.6/16.5 MB 667.1 kB/s eta 0:00:24\n",
      "   - -------------------------------------- 0.6/16.5 MB 667.1 kB/s eta 0:00:24\n",
      "   - -------------------------------------- 0.6/16.5 MB 667.1 kB/s eta 0:00:24\n",
      "   - -------------------------------------- 0.6/16.5 MB 667.1 kB/s eta 0:00:24\n",
      "   - -------------------------------------- 0.7/16.5 MB 609.4 kB/s eta 0:00:26\n",
      "   - -------------------------------------- 0.7/16.5 MB 628.8 kB/s eta 0:00:26\n",
      "   - -------------------------------------- 0.7/16.5 MB 628.8 kB/s eta 0:00:26\n",
      "   -- ------------------------------------- 0.9/16.5 MB 705.3 kB/s eta 0:00:23\n",
      "   -- ------------------------------------- 0.9/16.5 MB 711.4 kB/s eta 0:00:22\n",
      "   -- ------------------------------------- 1.0/16.5 MB 748.0 kB/s eta 0:00:21\n",
      "   -- ------------------------------------- 1.1/16.5 MB 811.8 kB/s eta 0:00:19\n",
      "   -- ------------------------------------- 1.2/16.5 MB 857.5 kB/s eta 0:00:18\n",
      "   --- ------------------------------------ 1.4/16.5 MB 927.7 kB/s eta 0:00:17\n",
      "   --- ------------------------------------ 1.5/16.5 MB 966.5 kB/s eta 0:00:16\n",
      "   --- ------------------------------------ 1.6/16.5 MB 1.0 MB/s eta 0:00:15\n",
      "   --- ------------------------------------ 1.6/16.5 MB 1.0 MB/s eta 0:00:15\n",
      "   --- ------------------------------------ 1.6/16.5 MB 1.0 MB/s eta 0:00:15\n",
      "   --- ------------------------------------ 1.6/16.5 MB 1.0 MB/s eta 0:00:15\n",
      "   --- ------------------------------------ 1.6/16.5 MB 1.0 MB/s eta 0:00:15\n",
      "   --- ------------------------------------ 1.6/16.5 MB 1.0 MB/s eta 0:00:15\n",
      "   --- ------------------------------------ 1.6/16.5 MB 1.0 MB/s eta 0:00:15\n",
      "   --- ------------------------------------ 1.6/16.5 MB 1.0 MB/s eta 0:00:15\n",
      "   --- ------------------------------------ 1.6/16.5 MB 1.0 MB/s eta 0:00:15\n",
      "   --- ------------------------------------ 1.6/16.5 MB 1.0 MB/s eta 0:00:15\n",
      "   --- ------------------------------------ 1.6/16.5 MB 1.0 MB/s eta 0:00:15\n",
      "   --- ------------------------------------ 1.6/16.5 MB 1.0 MB/s eta 0:00:15\n",
      "   --- ------------------------------------ 1.6/16.5 MB 1.0 MB/s eta 0:00:15\n",
      "   --- ------------------------------------ 1.6/16.5 MB 1.0 MB/s eta 0:00:15\n",
      "   --- ------------------------------------ 1.6/16.5 MB 715.1 kB/s eta 0:00:21\n",
      "   --- ------------------------------------ 1.6/16.5 MB 709.8 kB/s eta 0:00:21\n",
      "   --- ------------------------------------ 1.6/16.5 MB 704.2 kB/s eta 0:00:22\n",
      "   ---- ----------------------------------- 1.7/16.5 MB 707.1 kB/s eta 0:00:21\n",
      "   ---- ----------------------------------- 1.7/16.5 MB 719.3 kB/s eta 0:00:21\n",
      "   ---- ----------------------------------- 1.7/16.5 MB 719.3 kB/s eta 0:00:21\n",
      "   ---- ----------------------------------- 1.8/16.5 MB 716.6 kB/s eta 0:00:21\n",
      "   ---- ----------------------------------- 1.8/16.5 MB 716.6 kB/s eta 0:00:21\n",
      "   ---- ----------------------------------- 1.8/16.5 MB 716.6 kB/s eta 0:00:21\n",
      "   ---- ----------------------------------- 1.8/16.5 MB 716.6 kB/s eta 0:00:21\n",
      "   ---- ----------------------------------- 1.8/16.5 MB 716.6 kB/s eta 0:00:21\n",
      "   ---- ----------------------------------- 1.8/16.5 MB 716.6 kB/s eta 0:00:21\n",
      "   ---- ----------------------------------- 1.8/16.5 MB 716.6 kB/s eta 0:00:21\n",
      "   ---- ----------------------------------- 1.8/16.5 MB 644.7 kB/s eta 0:00:23\n",
      "   ---- ----------------------------------- 1.9/16.5 MB 644.9 kB/s eta 0:00:23\n",
      "   ---- ----------------------------------- 2.0/16.5 MB 662.4 kB/s eta 0:00:22\n",
      "   ---- ----------------------------------- 2.0/16.5 MB 665.9 kB/s eta 0:00:22\n",
      "   ----- ---------------------------------- 2.1/16.5 MB 692.6 kB/s eta 0:00:21\n",
      "   ----- ---------------------------------- 2.2/16.5 MB 722.8 kB/s eta 0:00:20\n",
      "   ----- ---------------------------------- 2.3/16.5 MB 714.2 kB/s eta 0:00:20\n",
      "   ----- ---------------------------------- 2.3/16.5 MB 739.8 kB/s eta 0:00:20\n",
      "   ----- ---------------------------------- 2.3/16.5 MB 739.8 kB/s eta 0:00:20\n",
      "   ------ --------------------------------- 2.5/16.5 MB 759.3 kB/s eta 0:00:19\n",
      "   ------ --------------------------------- 2.6/16.5 MB 779.8 kB/s eta 0:00:18\n",
      "   ------ --------------------------------- 2.6/16.5 MB 775.0 kB/s eta 0:00:18\n",
      "   ------ --------------------------------- 2.7/16.5 MB 806.5 kB/s eta 0:00:18\n",
      "   ------ --------------------------------- 2.8/16.5 MB 823.8 kB/s eta 0:00:17\n",
      "   ------ --------------------------------- 2.8/16.5 MB 811.2 kB/s eta 0:00:17\n",
      "   ------- -------------------------------- 3.0/16.5 MB 838.1 kB/s eta 0:00:17\n",
      "   ------- -------------------------------- 3.0/16.5 MB 850.9 kB/s eta 0:00:16\n",
      "   ------- -------------------------------- 3.0/16.5 MB 850.9 kB/s eta 0:00:16\n",
      "   ------- -------------------------------- 3.1/16.5 MB 837.5 kB/s eta 0:00:17\n",
      "   ------- -------------------------------- 3.1/16.5 MB 842.8 kB/s eta 0:00:16\n",
      "   -------- ------------------------------- 3.4/16.5 MB 889.4 kB/s eta 0:00:15\n",
      "   -------- ------------------------------- 3.4/16.5 MB 889.4 kB/s eta 0:00:15\n",
      "   -------- ------------------------------- 3.4/16.5 MB 889.4 kB/s eta 0:00:15\n",
      "   -------- ------------------------------- 3.4/16.5 MB 889.4 kB/s eta 0:00:15\n",
      "   -------- ------------------------------- 3.4/16.5 MB 889.4 kB/s eta 0:00:15\n",
      "   -------- ------------------------------- 3.4/16.5 MB 889.4 kB/s eta 0:00:15\n",
      "   -------- ------------------------------- 3.4/16.5 MB 889.4 kB/s eta 0:00:15\n",
      "   -------- ------------------------------- 3.4/16.5 MB 889.4 kB/s eta 0:00:15\n",
      "   -------- ------------------------------- 3.4/16.5 MB 889.4 kB/s eta 0:00:15\n",
      "   -------- ------------------------------- 3.4/16.5 MB 889.4 kB/s eta 0:00:15\n",
      "   -------- ------------------------------- 3.4/16.5 MB 797.5 kB/s eta 0:00:17\n",
      "   -------- ------------------------------- 3.4/16.5 MB 798.5 kB/s eta 0:00:17\n",
      "   -------- ------------------------------- 3.6/16.5 MB 824.6 kB/s eta 0:00:16\n",
      "   --------- ------------------------------ 3.8/16.5 MB 856.6 kB/s eta 0:00:15\n",
      "   --------- ------------------------------ 3.8/16.5 MB 856.6 kB/s eta 0:00:15\n",
      "   --------- ------------------------------ 3.8/16.5 MB 849.5 kB/s eta 0:00:15\n",
      "   --------- ------------------------------ 4.0/16.5 MB 874.6 kB/s eta 0:00:15\n",
      "   --------- ------------------------------ 4.1/16.5 MB 897.9 kB/s eta 0:00:14\n",
      "   --------- ------------------------------ 4.1/16.5 MB 887.8 kB/s eta 0:00:14\n",
      "   ---------- ----------------------------- 4.3/16.5 MB 914.2 kB/s eta 0:00:14\n",
      "   ---------- ----------------------------- 4.5/16.5 MB 950.6 kB/s eta 0:00:13\n",
      "   ---------- ----------------------------- 4.5/16.5 MB 949.6 kB/s eta 0:00:13\n",
      "   ---------- ----------------------------- 4.5/16.5 MB 949.6 kB/s eta 0:00:13\n",
      "   ----------- ---------------------------- 4.6/16.5 MB 946.2 kB/s eta 0:00:13\n",
      "   ----------- ---------------------------- 4.7/16.5 MB 964.3 kB/s eta 0:00:13\n",
      "   ----------- ---------------------------- 4.8/16.5 MB 979.0 kB/s eta 0:00:12\n",
      "   ----------- ---------------------------- 4.9/16.5 MB 982.1 kB/s eta 0:00:12\n",
      "   ----------- ---------------------------- 4.9/16.5 MB 982.1 kB/s eta 0:00:12\n",
      "   ------------ --------------------------- 5.0/16.5 MB 971.1 kB/s eta 0:00:12\n",
      "   ------------ --------------------------- 5.0/16.5 MB 980.2 kB/s eta 0:00:12\n",
      "   ------------ --------------------------- 5.3/16.5 MB 1.0 MB/s eta 0:00:12\n",
      "   ------------- -------------------------- 5.4/16.5 MB 1.0 MB/s eta 0:00:11\n",
      "   ------------- -------------------------- 5.6/16.5 MB 1.0 MB/s eta 0:00:11\n",
      "   -------------- ------------------------- 5.8/16.5 MB 1.1 MB/s eta 0:00:10\n",
      "   -------------- ------------------------- 5.8/16.5 MB 1.1 MB/s eta 0:00:10\n",
      "   -------------- ------------------------- 5.9/16.5 MB 1.1 MB/s eta 0:00:10\n",
      "   -------------- ------------------------- 5.9/16.5 MB 1.1 MB/s eta 0:00:10\n",
      "   -------------- ------------------------- 5.9/16.5 MB 1.1 MB/s eta 0:00:10\n",
      "   -------------- ------------------------- 5.9/16.5 MB 1.1 MB/s eta 0:00:10\n",
      "   -------------- ------------------------- 6.1/16.5 MB 1.1 MB/s eta 0:00:10\n",
      "   --------------- ------------------------ 6.2/16.5 MB 1.1 MB/s eta 0:00:10\n",
      "   --------------- ------------------------ 6.4/16.5 MB 1.1 MB/s eta 0:00:09\n",
      "   ---------------- ----------------------- 6.7/16.5 MB 1.2 MB/s eta 0:00:09\n",
      "   ---------------- ----------------------- 6.7/16.5 MB 1.2 MB/s eta 0:00:09\n",
      "   ---------------- ----------------------- 6.9/16.5 MB 1.2 MB/s eta 0:00:09\n",
      "   ----------------- ---------------------- 7.1/16.5 MB 1.2 MB/s eta 0:00:08\n",
      "   ----------------- ---------------------- 7.1/16.5 MB 1.2 MB/s eta 0:00:08\n",
      "   ----------------- ---------------------- 7.3/16.5 MB 1.2 MB/s eta 0:00:08\n",
      "   ------------------ --------------------- 7.6/16.5 MB 1.3 MB/s eta 0:00:08\n",
      "   ------------------ --------------------- 7.6/16.5 MB 1.3 MB/s eta 0:00:08\n",
      "   ------------------ --------------------- 7.6/16.5 MB 1.3 MB/s eta 0:00:08\n",
      "   ------------------ --------------------- 7.6/16.5 MB 1.3 MB/s eta 0:00:08\n",
      "   ------------------ --------------------- 7.6/16.5 MB 1.3 MB/s eta 0:00:08\n",
      "   ------------------ --------------------- 7.6/16.5 MB 1.3 MB/s eta 0:00:08\n",
      "   ------------------ --------------------- 7.6/16.5 MB 1.3 MB/s eta 0:00:08\n",
      "   ------------------ --------------------- 7.6/16.5 MB 1.2 MB/s eta 0:00:08\n",
      "   ------------------ --------------------- 7.6/16.5 MB 1.2 MB/s eta 0:00:08\n",
      "   ------------------ --------------------- 7.6/16.5 MB 1.2 MB/s eta 0:00:08\n",
      "   ------------------ --------------------- 7.6/16.5 MB 1.2 MB/s eta 0:00:08\n",
      "   ------------------ --------------------- 7.6/16.5 MB 1.2 MB/s eta 0:00:08\n",
      "   ------------------ --------------------- 7.6/16.5 MB 1.2 MB/s eta 0:00:08\n",
      "   ------------------ --------------------- 7.6/16.5 MB 1.2 MB/s eta 0:00:08\n",
      "   ------------------ --------------------- 7.6/16.5 MB 1.2 MB/s eta 0:00:08\n",
      "   ------------------ --------------------- 7.6/16.5 MB 1.2 MB/s eta 0:00:08\n",
      "   ------------------ --------------------- 7.6/16.5 MB 1.2 MB/s eta 0:00:08\n",
      "   ------------------ --------------------- 7.6/16.5 MB 1.2 MB/s eta 0:00:08\n",
      "   ------------------ --------------------- 7.6/16.5 MB 1.2 MB/s eta 0:00:08\n",
      "   ------------------ --------------------- 7.6/16.5 MB 1.2 MB/s eta 0:00:08\n",
      "   ------------------ --------------------- 7.7/16.5 MB 1.1 MB/s eta 0:00:09\n",
      "   ------------------ --------------------- 7.7/16.5 MB 1.1 MB/s eta 0:00:09\n",
      "   ------------------ --------------------- 7.7/16.5 MB 1.1 MB/s eta 0:00:09\n",
      "   ------------------ --------------------- 7.8/16.5 MB 1.1 MB/s eta 0:00:08\n",
      "   ------------------ --------------------- 7.8/16.5 MB 1.1 MB/s eta 0:00:08\n",
      "   ------------------- -------------------- 7.9/16.5 MB 1.1 MB/s eta 0:00:08\n",
      "   ------------------- -------------------- 8.1/16.5 MB 1.1 MB/s eta 0:00:08\n",
      "   ------------------- -------------------- 8.2/16.5 MB 1.1 MB/s eta 0:00:08\n",
      "   -------------------- ------------------- 8.4/16.5 MB 1.1 MB/s eta 0:00:08\n",
      "   -------------------- ------------------- 8.6/16.5 MB 1.2 MB/s eta 0:00:07\n",
      "   --------------------- ------------------ 8.7/16.5 MB 1.2 MB/s eta 0:00:07\n",
      "   --------------------- ------------------ 8.7/16.5 MB 1.2 MB/s eta 0:00:07\n",
      "   --------------------- ------------------ 9.0/16.5 MB 1.2 MB/s eta 0:00:07\n",
      "   ---------------------- ----------------- 9.2/16.5 MB 1.2 MB/s eta 0:00:07\n",
      "   ---------------------- ----------------- 9.2/16.5 MB 1.2 MB/s eta 0:00:07\n",
      "   ---------------------- ----------------- 9.2/16.5 MB 1.2 MB/s eta 0:00:07\n",
      "   ---------------------- ----------------- 9.2/16.5 MB 1.2 MB/s eta 0:00:07\n",
      "   ---------------------- ----------------- 9.2/16.5 MB 1.2 MB/s eta 0:00:07\n",
      "   ---------------------- ----------------- 9.3/16.5 MB 1.2 MB/s eta 0:00:07\n",
      "   ---------------------- ----------------- 9.3/16.5 MB 1.2 MB/s eta 0:00:07\n",
      "   ---------------------- ----------------- 9.4/16.5 MB 1.2 MB/s eta 0:00:06\n",
      "   ----------------------- ---------------- 9.7/16.5 MB 1.2 MB/s eta 0:00:06\n",
      "   ----------------------- ---------------- 9.8/16.5 MB 1.2 MB/s eta 0:00:06\n",
      "   ----------------------- ---------------- 9.9/16.5 MB 1.2 MB/s eta 0:00:06\n",
      "   ------------------------ --------------- 10.1/16.5 MB 1.2 MB/s eta 0:00:06\n",
      "   ------------------------- -------------- 10.3/16.5 MB 1.3 MB/s eta 0:00:05\n",
      "   ------------------------- -------------- 10.4/16.5 MB 1.3 MB/s eta 0:00:05\n",
      "   ------------------------- -------------- 10.6/16.5 MB 1.3 MB/s eta 0:00:05\n",
      "   -------------------------- ------------- 10.9/16.5 MB 1.4 MB/s eta 0:00:04\n",
      "   -------------------------- ------------- 11.0/16.5 MB 1.4 MB/s eta 0:00:04\n",
      "   -------------------------- ------------- 11.0/16.5 MB 1.4 MB/s eta 0:00:04\n",
      "   -------------------------- ------------- 11.0/16.5 MB 1.4 MB/s eta 0:00:04\n",
      "   -------------------------- ------------- 11.0/16.5 MB 1.4 MB/s eta 0:00:04\n",
      "   -------------------------- ------------- 11.0/16.5 MB 1.4 MB/s eta 0:00:04\n",
      "   -------------------------- ------------- 11.0/16.5 MB 1.4 MB/s eta 0:00:04\n",
      "   -------------------------- ------------- 11.0/16.5 MB 1.4 MB/s eta 0:00:04\n",
      "   -------------------------- ------------- 11.0/16.5 MB 1.4 MB/s eta 0:00:04\n",
      "   -------------------------- ------------- 11.0/16.5 MB 1.4 MB/s eta 0:00:04\n",
      "   -------------------------- ------------- 11.0/16.5 MB 1.4 MB/s eta 0:00:04\n",
      "   -------------------------- ------------- 11.0/16.5 MB 1.4 MB/s eta 0:00:04\n",
      "   -------------------------- ------------- 11.0/16.5 MB 1.4 MB/s eta 0:00:04\n",
      "   -------------------------- ------------- 11.0/16.5 MB 1.4 MB/s eta 0:00:04\n",
      "   -------------------------- ------------- 11.0/16.5 MB 1.4 MB/s eta 0:00:04\n",
      "   -------------------------- ------------- 11.0/16.5 MB 1.4 MB/s eta 0:00:04\n",
      "   -------------------------- ------------- 11.0/16.5 MB 1.4 MB/s eta 0:00:04\n",
      "   -------------------------- ------------- 11.0/16.5 MB 1.4 MB/s eta 0:00:04\n",
      "   -------------------------- ------------- 11.0/16.5 MB 1.4 MB/s eta 0:00:04\n",
      "   -------------------------- ------------- 11.0/16.5 MB 1.4 MB/s eta 0:00:04\n",
      "   -------------------------- ------------- 11.0/16.5 MB 1.4 MB/s eta 0:00:04\n",
      "   -------------------------- ------------- 11.0/16.5 MB 1.4 MB/s eta 0:00:04\n",
      "   -------------------------- ------------- 11.0/16.5 MB 1.4 MB/s eta 0:00:04\n",
      "   -------------------------- ------------- 11.0/16.5 MB 1.4 MB/s eta 0:00:04\n",
      "   -------------------------- ------------- 11.0/16.5 MB 1.4 MB/s eta 0:00:04\n",
      "   -------------------------- ------------- 11.0/16.5 MB 1.4 MB/s eta 0:00:04\n",
      "   -------------------------- ------------- 11.0/16.5 MB 1.4 MB/s eta 0:00:04\n",
      "   -------------------------- ------------- 11.0/16.5 MB 1.4 MB/s eta 0:00:04\n",
      "   -------------------------- ------------- 11.0/16.5 MB 1.4 MB/s eta 0:00:04\n",
      "   -------------------------- ------------- 11.0/16.5 MB 1.4 MB/s eta 0:00:04\n",
      "   -------------------------- ------------- 11.0/16.5 MB 1.4 MB/s eta 0:00:04\n",
      "   -------------------------- ------------- 11.0/16.5 MB 1.4 MB/s eta 0:00:04\n",
      "   -------------------------- ------------- 11.0/16.5 MB 1.4 MB/s eta 0:00:04\n",
      "   -------------------------- ------------- 11.0/16.5 MB 1.4 MB/s eta 0:00:04\n",
      "   -------------------------- ------------- 11.0/16.5 MB 1.4 MB/s eta 0:00:04\n",
      "   -------------------------- ------------- 11.0/16.5 MB 1.4 MB/s eta 0:00:04\n",
      "   -------------------------- ------------- 11.0/16.5 MB 1.4 MB/s eta 0:00:04\n",
      "   -------------------------- ------------- 11.0/16.5 MB 1.4 MB/s eta 0:00:04\n",
      "   -------------------------- ------------- 11.0/16.5 MB 1.4 MB/s eta 0:00:04\n",
      "   -------------------------- ------------- 11.0/16.5 MB 1.4 MB/s eta 0:00:04\n",
      "   -------------------------- ------------- 11.0/16.5 MB 1.4 MB/s eta 0:00:04\n",
      "   -------------------------- ------------- 11.0/16.5 MB 1.4 MB/s eta 0:00:04\n",
      "   -------------------------- ------------- 11.0/16.5 MB 1.4 MB/s eta 0:00:04\n",
      "   -------------------------- ------------- 11.0/16.5 MB 1.4 MB/s eta 0:00:04\n",
      "   -------------------------- ------------- 11.0/16.5 MB 1.4 MB/s eta 0:00:04\n",
      "   -------------------------- ------------- 11.0/16.5 MB 1.4 MB/s eta 0:00:04\n",
      "   -------------------------- ------------- 11.0/16.5 MB 1.4 MB/s eta 0:00:04\n",
      "   -------------------------- ------------- 11.0/16.5 MB 1.4 MB/s eta 0:00:04\n",
      "   -------------------------- ------------- 11.0/16.5 MB 1.4 MB/s eta 0:00:04\n",
      "   -------------------------- ------------- 11.0/16.5 MB 1.4 MB/s eta 0:00:04\n",
      "   -------------------------- ------------- 11.0/16.5 MB 1.4 MB/s eta 0:00:04\n",
      "   -------------------------- ------------- 11.0/16.5 MB 1.4 MB/s eta 0:00:04\n",
      "   -------------------------- ------------- 11.0/16.5 MB 1.4 MB/s eta 0:00:04\n",
      "   -------------------------- ------------- 11.0/16.5 MB 1.4 MB/s eta 0:00:04\n",
      "   -------------------------- ------------- 11.0/16.5 MB 1.4 MB/s eta 0:00:04\n",
      "   -------------------------- ------------- 11.0/16.5 MB 1.4 MB/s eta 0:00:04\n",
      "   -------------------------- ------------- 11.0/16.5 MB 1.1 MB/s eta 0:00:06\n",
      "   -------------------------- ------------- 11.0/16.5 MB 1.1 MB/s eta 0:00:06\n",
      "   -------------------------- ------------- 11.0/16.5 MB 1.0 MB/s eta 0:00:06\n",
      "   -------------------------- ------------- 11.0/16.5 MB 1.0 MB/s eta 0:00:06\n",
      "   -------------------------- ------------- 11.0/16.5 MB 1.0 MB/s eta 0:00:06\n",
      "   -------------------------- ------------- 11.1/16.5 MB 1.0 MB/s eta 0:00:06\n",
      "   -------------------------- ------------- 11.1/16.5 MB 1.0 MB/s eta 0:00:06\n",
      "   -------------------------- ------------- 11.1/16.5 MB 1.0 MB/s eta 0:00:06\n",
      "   -------------------------- ------------- 11.1/16.5 MB 1.0 MB/s eta 0:00:06\n",
      "   -------------------------- ------------- 11.1/16.5 MB 1.0 MB/s eta 0:00:06\n",
      "   -------------------------- ------------- 11.1/16.5 MB 1.0 MB/s eta 0:00:06\n",
      "   -------------------------- ------------- 11.1/16.5 MB 1.0 MB/s eta 0:00:06\n",
      "   --------------------------- ------------ 11.2/16.5 MB 1.0 MB/s eta 0:00:06\n",
      "   --------------------------- ------------ 11.2/16.5 MB 1.0 MB/s eta 0:00:06\n",
      "   --------------------------- ------------ 11.2/16.5 MB 998.0 kB/s eta 0:00:06\n",
      "   --------------------------- ------------ 11.2/16.5 MB 993.5 kB/s eta 0:00:06\n",
      "   --------------------------- ------------ 11.2/16.5 MB 993.5 kB/s eta 0:00:06\n",
      "   --------------------------- ------------ 11.2/16.5 MB 989.1 kB/s eta 0:00:06\n",
      "   --------------------------- ------------ 11.2/16.5 MB 984.6 kB/s eta 0:00:06\n",
      "   --------------------------- ------------ 11.2/16.5 MB 980.0 kB/s eta 0:00:06\n",
      "   --------------------------- ------------ 11.3/16.5 MB 974.3 kB/s eta 0:00:06\n",
      "   --------------------------- ------------ 11.3/16.5 MB 974.3 kB/s eta 0:00:06\n",
      "   --------------------------- ------------ 11.3/16.5 MB 974.3 kB/s eta 0:00:06\n",
      "   --------------------------- ------------ 11.3/16.5 MB 974.3 kB/s eta 0:00:06\n",
      "   --------------------------- ------------ 11.3/16.5 MB 960.0 kB/s eta 0:00:06\n",
      "   --------------------------- ------------ 11.3/16.5 MB 954.4 kB/s eta 0:00:06\n",
      "   --------------------------- ------------ 11.3/16.5 MB 950.2 kB/s eta 0:00:06\n",
      "   --------------------------- ------------ 11.3/16.5 MB 946.1 kB/s eta 0:00:06\n",
      "   --------------------------- ------------ 11.3/16.5 MB 943.4 kB/s eta 0:00:06\n",
      "   --------------------------- ------------ 11.5/16.5 MB 944.8 kB/s eta 0:00:06\n",
      "   ---------------------------- ----------- 11.8/16.5 MB 1.0 MB/s eta 0:00:05\n",
      "   ---------------------------- ----------- 12.0/16.5 MB 1.0 MB/s eta 0:00:05\n",
      "   ----------------------------- ---------- 12.0/16.5 MB 1.0 MB/s eta 0:00:05\n",
      "   ----------------------------- ---------- 12.2/16.5 MB 1.1 MB/s eta 0:00:05\n",
      "   ------------------------------ --------- 12.4/16.5 MB 1.1 MB/s eta 0:00:04\n",
      "   ------------------------------ --------- 12.7/16.5 MB 1.1 MB/s eta 0:00:04\n",
      "   ------------------------------ --------- 12.7/16.5 MB 1.1 MB/s eta 0:00:04\n",
      "   ------------------------------- -------- 12.9/16.5 MB 1.1 MB/s eta 0:00:04\n",
      "   -------------------------------- ------- 13.2/16.5 MB 1.1 MB/s eta 0:00:03\n",
      "   -------------------------------- ------- 13.4/16.5 MB 1.1 MB/s eta 0:00:03\n",
      "   -------------------------------- ------- 13.4/16.5 MB 1.1 MB/s eta 0:00:03\n",
      "   --------------------------------- ------ 13.7/16.5 MB 1.2 MB/s eta 0:00:03\n",
      "   --------------------------------- ------ 13.9/16.5 MB 1.2 MB/s eta 0:00:03\n",
      "   ---------------------------------- ----- 14.1/16.5 MB 1.2 MB/s eta 0:00:03\n",
      "   ---------------------------------- ----- 14.1/16.5 MB 1.2 MB/s eta 0:00:02\n",
      "   ---------------------------------- ----- 14.1/16.5 MB 1.2 MB/s eta 0:00:02\n",
      "   ---------------------------------- ----- 14.1/16.5 MB 1.2 MB/s eta 0:00:02\n",
      "   ---------------------------------- ----- 14.1/16.5 MB 1.2 MB/s eta 0:00:02\n",
      "   ---------------------------------- ----- 14.1/16.5 MB 1.2 MB/s eta 0:00:02\n",
      "   ---------------------------------- ----- 14.1/16.5 MB 1.2 MB/s eta 0:00:02\n",
      "   ---------------------------------- ----- 14.1/16.5 MB 1.2 MB/s eta 0:00:02\n",
      "   ---------------------------------- ----- 14.1/16.5 MB 1.2 MB/s eta 0:00:02\n",
      "   ---------------------------------- ----- 14.1/16.5 MB 1.2 MB/s eta 0:00:02\n",
      "   ---------------------------------- ----- 14.1/16.5 MB 1.2 MB/s eta 0:00:02\n",
      "   ---------------------------------- ----- 14.1/16.5 MB 1.2 MB/s eta 0:00:02\n",
      "   ---------------------------------- ----- 14.1/16.5 MB 1.2 MB/s eta 0:00:02\n",
      "   ---------------------------------- ----- 14.1/16.5 MB 1.2 MB/s eta 0:00:02\n",
      "   ---------------------------------- ----- 14.1/16.5 MB 1.2 MB/s eta 0:00:02\n",
      "   ---------------------------------- ----- 14.1/16.5 MB 1.2 MB/s eta 0:00:02\n",
      "   ---------------------------------- ----- 14.1/16.5 MB 1.2 MB/s eta 0:00:02\n",
      "   ---------------------------------- ----- 14.1/16.5 MB 1.1 MB/s eta 0:00:03\n",
      "   ---------------------------------- ----- 14.2/16.5 MB 1.1 MB/s eta 0:00:03\n",
      "   ---------------------------------- ----- 14.3/16.5 MB 1.1 MB/s eta 0:00:03\n",
      "   ---------------------------------- ----- 14.4/16.5 MB 1.1 MB/s eta 0:00:02\n",
      "   ----------------------------------- ---- 14.6/16.5 MB 1.1 MB/s eta 0:00:02\n",
      "   ----------------------------------- ---- 14.8/16.5 MB 1.1 MB/s eta 0:00:02\n",
      "   ----------------------------------- ---- 14.8/16.5 MB 1.1 MB/s eta 0:00:02\n",
      "   ----------------------------------- ---- 14.8/16.5 MB 1.1 MB/s eta 0:00:02\n",
      "   ----------------------------------- ---- 14.8/16.5 MB 1.1 MB/s eta 0:00:02\n",
      "   ----------------------------------- ---- 14.8/16.5 MB 1.1 MB/s eta 0:00:02\n",
      "   ----------------------------------- ---- 14.8/16.5 MB 1.1 MB/s eta 0:00:02\n",
      "   ----------------------------------- ---- 14.8/16.5 MB 1.1 MB/s eta 0:00:02\n",
      "   ----------------------------------- ---- 14.8/16.5 MB 1.1 MB/s eta 0:00:02\n",
      "   ----------------------------------- ---- 14.8/16.5 MB 1.1 MB/s eta 0:00:02\n",
      "   ----------------------------------- ---- 14.8/16.5 MB 1.1 MB/s eta 0:00:02\n",
      "   ----------------------------------- ---- 14.8/16.5 MB 1.1 MB/s eta 0:00:02\n",
      "   ----------------------------------- ---- 14.8/16.5 MB 1.1 MB/s eta 0:00:02\n",
      "   ----------------------------------- ---- 14.8/16.5 MB 1.1 MB/s eta 0:00:02\n",
      "   ----------------------------------- ---- 14.8/16.5 MB 1.1 MB/s eta 0:00:02\n",
      "   ------------------------------------ --- 14.9/16.5 MB 1.1 MB/s eta 0:00:02\n",
      "   ------------------------------------ --- 15.0/16.5 MB 1.0 MB/s eta 0:00:02\n",
      "   ------------------------------------ --- 15.0/16.5 MB 1.0 MB/s eta 0:00:02\n",
      "   ------------------------------------ --- 15.0/16.5 MB 1.0 MB/s eta 0:00:02\n",
      "   ------------------------------------ --- 15.0/16.5 MB 1.0 MB/s eta 0:00:02\n",
      "   ------------------------------------ --- 15.0/16.5 MB 1.0 MB/s eta 0:00:02\n",
      "   ------------------------------------ --- 15.0/16.5 MB 1.0 MB/s eta 0:00:02\n",
      "   ------------------------------------ --- 15.0/16.5 MB 1.0 MB/s eta 0:00:02\n",
      "   ------------------------------------ --- 15.0/16.5 MB 1.0 MB/s eta 0:00:02\n",
      "   ------------------------------------ --- 15.0/16.5 MB 1.0 MB/s eta 0:00:02\n",
      "   ------------------------------------ --- 15.0/16.5 MB 1.0 MB/s eta 0:00:02\n",
      "   ------------------------------------ --- 15.0/16.5 MB 1.0 MB/s eta 0:00:02\n",
      "   ------------------------------------ --- 15.0/16.5 MB 1.0 MB/s eta 0:00:02\n",
      "   ------------------------------------ --- 15.0/16.5 MB 1.0 MB/s eta 0:00:02\n",
      "   ------------------------------------ --- 15.0/16.5 MB 1.0 MB/s eta 0:00:02\n",
      "   ------------------------------------ --- 15.0/16.5 MB 1.0 MB/s eta 0:00:02\n",
      "   ------------------------------------ --- 15.0/16.5 MB 1.0 MB/s eta 0:00:02\n",
      "   ------------------------------------ --- 15.0/16.5 MB 1.0 MB/s eta 0:00:02\n",
      "   ------------------------------------ --- 15.0/16.5 MB 1.0 MB/s eta 0:00:02\n",
      "   ------------------------------------ --- 15.0/16.5 MB 1.0 MB/s eta 0:00:02\n",
      "   ------------------------------------ --- 15.0/16.5 MB 1.0 MB/s eta 0:00:02\n",
      "   ------------------------------------ --- 15.0/16.5 MB 1.0 MB/s eta 0:00:02\n",
      "   ------------------------------------ --- 15.0/16.5 MB 1.0 MB/s eta 0:00:02\n",
      "   ------------------------------------ --- 15.0/16.5 MB 1.0 MB/s eta 0:00:02\n",
      "   ------------------------------------ --- 15.0/16.5 MB 1.0 MB/s eta 0:00:02\n",
      "   ------------------------------------ --- 15.0/16.5 MB 1.0 MB/s eta 0:00:02\n",
      "   ------------------------------------ --- 15.0/16.5 MB 1.0 MB/s eta 0:00:02\n",
      "   ------------------------------------ --- 15.0/16.5 MB 1.0 MB/s eta 0:00:02\n",
      "   ------------------------------------ --- 15.0/16.5 MB 1.0 MB/s eta 0:00:02\n",
      "   ------------------------------------ --- 15.0/16.5 MB 1.0 MB/s eta 0:00:02\n",
      "   ------------------------------------ --- 15.0/16.5 MB 1.0 MB/s eta 0:00:02\n",
      "   ------------------------------------ --- 15.0/16.5 MB 1.0 MB/s eta 0:00:02\n",
      "   ------------------------------------ --- 15.0/16.5 MB 1.0 MB/s eta 0:00:02\n",
      "   ------------------------------------ --- 15.0/16.5 MB 1.0 MB/s eta 0:00:02\n",
      "   ------------------------------------ --- 15.0/16.5 MB 1.0 MB/s eta 0:00:02\n",
      "   ------------------------------------ --- 15.0/16.5 MB 1.0 MB/s eta 0:00:02\n",
      "   ------------------------------------ --- 15.0/16.5 MB 899.3 kB/s eta 0:00:02\n",
      "   ------------------------------------ --- 15.0/16.5 MB 895.6 kB/s eta 0:00:02\n",
      "   ------------------------------------ --- 15.0/16.5 MB 893.2 kB/s eta 0:00:02\n",
      "   ------------------------------------ --- 15.1/16.5 MB 891.9 kB/s eta 0:00:02\n",
      "   ------------------------------------ --- 15.3/16.5 MB 901.8 kB/s eta 0:00:02\n",
      "   ------------------------------------- -- 15.3/16.5 MB 900.5 kB/s eta 0:00:02\n",
      "   ------------------------------------- -- 15.4/16.5 MB 895.6 kB/s eta 0:00:02\n",
      "   ------------------------------------- -- 15.6/16.5 MB 898.1 kB/s eta 0:00:01\n",
      "   -------------------------------------- - 15.7/16.5 MB 896.9 kB/s eta 0:00:01\n",
      "   -------------------------------------- - 15.7/16.5 MB 896.9 kB/s eta 0:00:01\n",
      "   -------------------------------------- - 15.8/16.5 MB 893.2 kB/s eta 0:00:01\n",
      "   -------------------------------------- - 15.8/16.5 MB 893.2 kB/s eta 0:00:01\n",
      "   -------------------------------------- - 15.8/16.5 MB 893.2 kB/s eta 0:00:01\n",
      "   -------------------------------------- - 15.8/16.5 MB 893.2 kB/s eta 0:00:01\n",
      "   -------------------------------------- - 15.8/16.5 MB 893.2 kB/s eta 0:00:01\n",
      "   -------------------------------------- - 15.8/16.5 MB 893.2 kB/s eta 0:00:01\n",
      "   -------------------------------------- - 15.8/16.5 MB 893.2 kB/s eta 0:00:01\n",
      "   -------------------------------------- - 15.8/16.5 MB 893.2 kB/s eta 0:00:01\n",
      "   -------------------------------------- - 15.8/16.5 MB 893.2 kB/s eta 0:00:01\n",
      "   -------------------------------------- - 15.8/16.5 MB 893.2 kB/s eta 0:00:01\n",
      "   -------------------------------------- - 15.8/16.5 MB 893.2 kB/s eta 0:00:01\n",
      "   -------------------------------------- - 15.8/16.5 MB 893.2 kB/s eta 0:00:01\n",
      "   -------------------------------------- - 15.8/16.5 MB 893.2 kB/s eta 0:00:01\n",
      "   -------------------------------------- - 15.8/16.5 MB 893.2 kB/s eta 0:00:01\n",
      "   -------------------------------------- - 15.8/16.5 MB 893.2 kB/s eta 0:00:01\n",
      "   -------------------------------------- - 15.8/16.5 MB 893.2 kB/s eta 0:00:01\n",
      "   -------------------------------------- - 15.8/16.5 MB 893.2 kB/s eta 0:00:01\n",
      "   -------------------------------------- - 15.8/16.5 MB 893.2 kB/s eta 0:00:01\n",
      "   -------------------------------------- - 15.8/16.5 MB 893.2 kB/s eta 0:00:01\n",
      "   -------------------------------------- - 15.8/16.5 MB 893.2 kB/s eta 0:00:01\n",
      "   -------------------------------------- - 15.8/16.5 MB 893.2 kB/s eta 0:00:01\n",
      "   -------------------------------------- - 15.8/16.5 MB 893.2 kB/s eta 0:00:01\n",
      "   -------------------------------------- - 15.8/16.5 MB 893.2 kB/s eta 0:00:01\n",
      "   -------------------------------------- - 15.8/16.5 MB 893.2 kB/s eta 0:00:01\n",
      "   -------------------------------------- - 15.8/16.5 MB 893.2 kB/s eta 0:00:01\n",
      "   -------------------------------------- - 15.8/16.5 MB 893.2 kB/s eta 0:00:01\n",
      "   -------------------------------------- - 15.8/16.5 MB 893.2 kB/s eta 0:00:01\n",
      "   -------------------------------------- - 15.8/16.5 MB 893.2 kB/s eta 0:00:01\n",
      "   -------------------------------------- - 15.8/16.5 MB 893.2 kB/s eta 0:00:01\n",
      "   -------------------------------------- - 15.8/16.5 MB 893.2 kB/s eta 0:00:01\n",
      "   -------------------------------------- - 15.8/16.5 MB 893.2 kB/s eta 0:00:01\n",
      "   -------------------------------------- - 15.8/16.5 MB 893.2 kB/s eta 0:00:01\n",
      "   -------------------------------------- - 15.8/16.5 MB 893.2 kB/s eta 0:00:01\n",
      "   -------------------------------------- - 15.9/16.5 MB 786.9 kB/s eta 0:00:01\n",
      "   -------------------------------------- - 15.9/16.5 MB 784.1 kB/s eta 0:00:01\n",
      "   -------------------------------------- - 16.0/16.5 MB 782.2 kB/s eta 0:00:01\n",
      "   ---------------------------------------  16.2/16.5 MB 794.5 kB/s eta 0:00:01\n",
      "   ---------------------------------------  16.2/16.5 MB 794.5 kB/s eta 0:00:01\n",
      "   ---------------------------------------  16.3/16.5 MB 790.7 kB/s eta 0:00:01\n",
      "   ---------------------------------------  16.5/16.5 MB 791.7 kB/s eta 0:00:01\n",
      "   ---------------------------------------  16.5/16.5 MB 791.7 kB/s eta 0:00:01\n",
      "   ---------------------------------------- 16.5/16.5 MB 788.1 kB/s eta 0:00:00\n",
      "Downloading gradio_client-0.7.1-py3-none-any.whl (302 kB)\n",
      "   ---------------------------------------- 0.0/302.9 kB ? eta -:--:--\n",
      "   ---------------------------------------- 0.0/302.9 kB ? eta -:--:--\n",
      "   - -------------------------------------- 10.2/302.9 kB ? eta -:--:--\n",
      "   - -------------------------------------- 10.2/302.9 kB ? eta -:--:--\n",
      "   --- ----------------------------------- 30.7/302.9 kB 217.9 kB/s eta 0:00:02\n",
      "   ----- --------------------------------- 41.0/302.9 kB 219.4 kB/s eta 0:00:02\n",
      "   --------- ----------------------------- 71.7/302.9 kB 280.5 kB/s eta 0:00:01\n",
      "   --------------- ---------------------- 122.9/302.9 kB 425.1 kB/s eta 0:00:01\n",
      "   ----------------------- -------------- 184.3/302.9 kB 557.9 kB/s eta 0:00:01\n",
      "   -------------------------------- ----- 256.0/302.9 kB 684.6 kB/s eta 0:00:01\n",
      "   -------------------------------------- 302.9/302.9 kB 720.8 kB/s eta 0:00:00\n",
      "Downloading tomlkit-0.12.0-py3-none-any.whl (37 kB)\n",
      "Downloading aiofiles-23.2.1-py3-none-any.whl (15 kB)\n",
      "Downloading altair-5.2.0-py3-none-any.whl (996 kB)\n",
      "   ---------------------------------------- 0.0/996.9 kB ? eta -:--:--\n",
      "   ------ --------------------------------- 174.1/996.9 kB 5.3 MB/s eta 0:00:01\n",
      "   ----------------- ---------------------- 430.1/996.9 kB 5.4 MB/s eta 0:00:01\n",
      "   -------------------- ------------------- 512.0/996.9 kB 5.4 MB/s eta 0:00:01\n",
      "   -------------------------- ------------- 655.4/996.9 kB 3.8 MB/s eta 0:00:01\n",
      "   ---------------------------------------  972.8/996.9 kB 4.4 MB/s eta 0:00:01\n",
      "   ---------------------------------------- 996.9/996.9 kB 3.9 MB/s eta 0:00:00\n",
      "Downloading huggingface_hub-0.19.4-py3-none-any.whl (311 kB)\n",
      "   ---------------------------------------- 0.0/311.7 kB ? eta -:--:--\n",
      "   - -------------------------------------- 10.2/311.7 kB ? eta -:--:--\n",
      "   --- ----------------------------------- 30.7/311.7 kB 660.6 kB/s eta 0:00:01\n",
      "   ------------- ------------------------ 112.6/311.7 kB 939.4 kB/s eta 0:00:01\n",
      "   ---------------------------- ----------- 225.3/311.7 kB 1.5 MB/s eta 0:00:01\n",
      "   ---------------------------------------  307.2/311.7 kB 1.6 MB/s eta 0:00:01\n",
      "   ---------------------------------------- 311.7/311.7 kB 1.5 MB/s eta 0:00:00\n",
      "Downloading importlib_resources-6.1.1-py3-none-any.whl (33 kB)\n",
      "Downloading orjson-3.9.10-cp310-none-win_amd64.whl (135 kB)\n",
      "   ---------------------------------------- 0.0/135.0 kB ? eta -:--:--\n",
      "   ----------- --------------------------- 41.0/135.0 kB 960.0 kB/s eta 0:00:01\n",
      "   --------------------------- ------------ 92.2/135.0 kB 1.0 MB/s eta 0:00:01\n",
      "   -------------------------------------  133.1/135.0 kB 983.0 kB/s eta 0:00:01\n",
      "   -------------------------------------- 135.0/135.0 kB 885.1 kB/s eta 0:00:00\n",
      "Downloading pydantic-2.5.2-py3-none-any.whl (381 kB)\n",
      "   ---------------------------------------- 0.0/381.9 kB ? eta -:--:--\n",
      "   ---- ---------------------------------- 41.0/381.9 kB 991.0 kB/s eta 0:00:01\n",
      "   ------ -------------------------------- 61.4/381.9 kB 812.7 kB/s eta 0:00:01\n",
      "   --------- ----------------------------- 92.2/381.9 kB 751.6 kB/s eta 0:00:01\n",
      "   ------------ ------------------------- 122.9/381.9 kB 654.9 kB/s eta 0:00:01\n",
      "   ---------------- --------------------- 163.8/381.9 kB 701.4 kB/s eta 0:00:01\n",
      "   -------------------------------------- - 368.6/381.9 kB 1.3 MB/s eta 0:00:01\n",
      "   ---------------------------------------  378.9/381.9 kB 1.2 MB/s eta 0:00:01\n",
      "   ---------------------------------------- 381.9/381.9 kB 1.1 MB/s eta 0:00:00\n",
      "Downloading pydantic_core-2.14.5-cp310-none-win_amd64.whl (1.9 MB)\n",
      "   ---------------------------------------- 0.0/1.9 MB ? eta -:--:--\n",
      "   --- ------------------------------------ 0.2/1.9 MB 4.6 MB/s eta 0:00:01\n",
      "   ------- -------------------------------- 0.4/1.9 MB 4.6 MB/s eta 0:00:01\n",
      "   ------------- -------------------------- 0.6/1.9 MB 4.8 MB/s eta 0:00:01\n",
      "   ------------------- -------------------- 0.9/1.9 MB 5.4 MB/s eta 0:00:01\n",
      "   --------------------------- ------------ 1.3/1.9 MB 5.4 MB/s eta 0:00:01\n",
      "   --------------------------------- ------ 1.6/1.9 MB 6.0 MB/s eta 0:00:01\n",
      "   ---------------------------------------  1.9/1.9 MB 6.0 MB/s eta 0:00:01\n",
      "   ---------------------------------------- 1.9/1.9 MB 5.7 MB/s eta 0:00:00\n",
      "Downloading uvicorn-0.24.0.post1-py3-none-any.whl (59 kB)\n",
      "   ---------------------------------------- 0.0/59.7 kB ? eta -:--:--\n",
      "   ---------------------------------------- 59.7/59.7 kB 1.5 MB/s eta 0:00:00\n",
      "Downloading fastapi-0.105.0-py3-none-any.whl (93 kB)\n",
      "   ---------------------------------------- 0.0/93.1 kB ? eta -:--:--\n",
      "   ---------------------------------------- 93.1/93.1 kB 2.7 MB/s eta 0:00:00\n",
      "Downloading typing_extensions-4.9.0-py3-none-any.whl (32 kB)\n",
      "Downloading httpx-0.25.2-py3-none-any.whl (74 kB)\n",
      "   ---------------------------------------- 0.0/75.0 kB ? eta -:--:--\n",
      "   ----- ---------------------------------- 10.2/75.0 kB ? eta -:--:--\n",
      "   -------------------------------------- - 71.7/75.0 kB 787.7 kB/s eta 0:00:01\n",
      "   ---------------------------------------- 75.0/75.0 kB 696.1 kB/s eta 0:00:00\n",
      "Downloading httpcore-1.0.2-py3-none-any.whl (76 kB)\n",
      "   ---------------------------------------- 0.0/76.9 kB ? eta -:--:--\n",
      "   ---------------------------------------- 76.9/76.9 kB 2.2 MB/s eta 0:00:00\n",
      "Downloading annotated_types-0.6.0-py3-none-any.whl (12 kB)\n",
      "Downloading anyio-3.7.1-py3-none-any.whl (80 kB)\n",
      "   ---------------------------------------- 0.0/80.9 kB ? eta -:--:--\n",
      "   ---------------------------------------- 80.9/80.9 kB 4.4 MB/s eta 0:00:00\n",
      "Downloading fsspec-2023.12.2-py3-none-any.whl (168 kB)\n",
      "   ---------------------------------------- 0.0/169.0 kB ? eta -:--:--\n",
      "   ---------------------------------------- 169.0/169.0 kB 3.4 MB/s eta 0:00:00\n",
      "Downloading rich-13.7.0-py3-none-any.whl (240 kB)\n",
      "   ---------------------------------------- 0.0/240.6 kB ? eta -:--:--\n",
      "   ------ -------------------------------- 41.0/240.6 kB 991.0 kB/s eta 0:00:01\n",
      "   ---------------------------------------- 240.6/240.6 kB 3.0 MB/s eta 0:00:00\n",
      "Downloading shellingham-1.5.4-py2.py3-none-any.whl (9.8 kB)\n",
      "Downloading starlette-0.27.0-py3-none-any.whl (66 kB)\n",
      "   ---------------------------------------- 0.0/67.0 kB ? eta -:--:--\n",
      "   ---------------------------------------- 67.0/67.0 kB 3.8 MB/s eta 0:00:00\n",
      "Downloading tqdm-4.66.1-py3-none-any.whl (78 kB)\n",
      "   ---------------------------------------- 0.0/78.3 kB ? eta -:--:--\n",
      "   ---------------------------------------- 78.3/78.3 kB 4.3 MB/s eta 0:00:00\n",
      "Downloading filelock-3.13.1-py3-none-any.whl (11 kB)\n",
      "Downloading markdown_it_py-3.0.0-py3-none-any.whl (87 kB)\n",
      "   ---------------------------------------- 0.0/87.5 kB ? eta -:--:--\n",
      "   ---------------------------------------- 87.5/87.5 kB 5.2 MB/s eta 0:00:00\n",
      "Building wheels for collected packages: ffmpy\n",
      "  Building wheel for ffmpy (setup.py): started\n",
      "  Building wheel for ffmpy (setup.py): finished with status 'done'\n",
      "  Created wheel for ffmpy: filename=ffmpy-0.3.1-py3-none-any.whl size=5601 sha256=7e5737c27dd363346e7653ab332b144952d6046c1fc38c158ec1f99aa4c10d3d\n",
      "  Stored in directory: c:\\users\\ons\\appdata\\local\\pip\\cache\\wheels\\01\\a6\\d1\\1c0828c304a4283b2c1639a09ad86f83d7c487ef34c6b4a1bf\n",
      "Successfully built ffmpy\n",
      "Installing collected packages: pydub, ffmpy, websockets, typing-extensions, tqdm, toolz, tomlkit, shellingham, semantic-version, python-multipart, orjson, mdurl, importlib-resources, h11, fsspec, filelock, anyio, annotated-types, aiofiles, uvicorn, typer, starlette, pydantic-core, markdown-it-py, huggingface-hub, httpcore, rich, pydantic, httpx, gradio-client, fastapi, altair, gradio\n",
      "  Attempting uninstall: typing-extensions\n",
      "    Found existing installation: typing_extensions 4.7.1\n",
      "    Uninstalling typing_extensions-4.7.1:\n",
      "      Successfully uninstalled typing_extensions-4.7.1\n",
      "  Attempting uninstall: anyio\n",
      "    Found existing installation: anyio 3.5.0\n",
      "    Uninstalling anyio-3.5.0:\n",
      "      Successfully uninstalled anyio-3.5.0\n",
      "Successfully installed aiofiles-23.2.1 altair-5.2.0 annotated-types-0.6.0 anyio-3.7.1 fastapi-0.105.0 ffmpy-0.3.1 filelock-3.13.1 fsspec-2023.12.2 gradio-4.8.0 gradio-client-0.7.1 h11-0.14.0 httpcore-1.0.2 httpx-0.25.2 huggingface-hub-0.19.4 importlib-resources-6.1.1 markdown-it-py-3.0.0 mdurl-0.1.2 orjson-3.9.10 pydantic-2.5.2 pydantic-core-2.14.5 pydub-0.25.1 python-multipart-0.0.6 rich-13.7.0 semantic-version-2.10.0 shellingham-1.5.4 starlette-0.27.0 tomlkit-0.12.0 toolz-0.12.0 tqdm-4.66.1 typer-0.9.0 typing-extensions-4.9.0 uvicorn-0.24.0.post1 websockets-11.0.3\n"
     ]
    },
    {
     "name": "stderr",
     "output_type": "stream",
     "text": [
      "ERROR: pip's dependency resolver does not currently take into account all the packages that are installed. This behaviour is the source of the following dependency conflicts.\n",
      "tensorflow 2.10.0 requires libclang>=13.0.0, which is not installed.\n",
      "tensorflow 2.10.0 requires tensorflow-io-gcs-filesystem>=0.23.1, which is not installed.\n",
      "tensorflow 2.10.0 requires protobuf<3.20,>=3.9.2, but you have protobuf 3.20.3 which is incompatible.\n"
     ]
    }
   ],
   "source": [
    "!pip install gradio jinja2"
   ]
  },
  {
   "cell_type": "code",
   "execution_count": 7,
   "metadata": {
    "tags": []
   },
   "outputs": [
    {
     "ename": "ImportError",
     "evalue": "cannot import name 'Doc' from 'typing_extensions' (C:\\Users\\Ons\\anaconda3\\envs\\nlp\\lib\\site-packages\\typing_extensions.py)",
     "output_type": "error",
     "traceback": [
      "\u001b[1;31m---------------------------------------------------------------------------\u001b[0m",
      "\u001b[1;31mImportError\u001b[0m                               Traceback (most recent call last)",
      "Cell \u001b[1;32mIn[7], line 2\u001b[0m\n\u001b[0;32m      1\u001b[0m \u001b[38;5;28;01mimport\u001b[39;00m \u001b[38;5;21;01mtensorflow\u001b[39;00m \u001b[38;5;28;01mas\u001b[39;00m \u001b[38;5;21;01mtf\u001b[39;00m\n\u001b[1;32m----> 2\u001b[0m \u001b[38;5;28;01mimport\u001b[39;00m \u001b[38;5;21;01mgradio\u001b[39;00m \u001b[38;5;28;01mas\u001b[39;00m \u001b[38;5;21;01mgr\u001b[39;00m\n",
      "File \u001b[1;32m~\\anaconda3\\envs\\nlp\\lib\\site-packages\\gradio\\__init__.py:3\u001b[0m\n\u001b[0;32m      1\u001b[0m \u001b[38;5;28;01mimport\u001b[39;00m \u001b[38;5;21;01mjson\u001b[39;00m\n\u001b[1;32m----> 3\u001b[0m \u001b[38;5;28;01mimport\u001b[39;00m \u001b[38;5;21;01mgradio\u001b[39;00m\u001b[38;5;21;01m.\u001b[39;00m\u001b[38;5;21;01m_simple_templates\u001b[39;00m\n\u001b[0;32m      4\u001b[0m \u001b[38;5;28;01mimport\u001b[39;00m \u001b[38;5;21;01mgradio\u001b[39;00m\u001b[38;5;21;01m.\u001b[39;00m\u001b[38;5;21;01mcomponents\u001b[39;00m \u001b[38;5;28;01mas\u001b[39;00m \u001b[38;5;21;01mcomponents\u001b[39;00m\n\u001b[0;32m      5\u001b[0m \u001b[38;5;28;01mimport\u001b[39;00m \u001b[38;5;21;01mgradio\u001b[39;00m\u001b[38;5;21;01m.\u001b[39;00m\u001b[38;5;21;01mimage_utils\u001b[39;00m\n",
      "File \u001b[1;32m~\\anaconda3\\envs\\nlp\\lib\\site-packages\\gradio\\_simple_templates\\__init__.py:1\u001b[0m\n\u001b[1;32m----> 1\u001b[0m \u001b[38;5;28;01mfrom\u001b[39;00m \u001b[38;5;21;01m.\u001b[39;00m\u001b[38;5;21;01msimpledropdown\u001b[39;00m \u001b[38;5;28;01mimport\u001b[39;00m SimpleDropdown\n\u001b[0;32m      2\u001b[0m \u001b[38;5;28;01mfrom\u001b[39;00m \u001b[38;5;21;01m.\u001b[39;00m\u001b[38;5;21;01msimpletextbox\u001b[39;00m \u001b[38;5;28;01mimport\u001b[39;00m SimpleTextbox\n\u001b[0;32m      4\u001b[0m __all__ \u001b[38;5;241m=\u001b[39m [\u001b[38;5;124m\"\u001b[39m\u001b[38;5;124mSimpleDropdown\u001b[39m\u001b[38;5;124m\"\u001b[39m, \u001b[38;5;124m\"\u001b[39m\u001b[38;5;124mSimpleTextbox\u001b[39m\u001b[38;5;124m\"\u001b[39m]\n",
      "File \u001b[1;32m~\\anaconda3\\envs\\nlp\\lib\\site-packages\\gradio\\_simple_templates\\simpledropdown.py:6\u001b[0m\n\u001b[0;32m      3\u001b[0m \u001b[38;5;28;01mimport\u001b[39;00m \u001b[38;5;21;01mwarnings\u001b[39;00m\n\u001b[0;32m      4\u001b[0m \u001b[38;5;28;01mfrom\u001b[39;00m \u001b[38;5;21;01mtyping\u001b[39;00m \u001b[38;5;28;01mimport\u001b[39;00m Any, Callable\n\u001b[1;32m----> 6\u001b[0m \u001b[38;5;28;01mfrom\u001b[39;00m \u001b[38;5;21;01mgradio\u001b[39;00m\u001b[38;5;21;01m.\u001b[39;00m\u001b[38;5;21;01mcomponents\u001b[39;00m\u001b[38;5;21;01m.\u001b[39;00m\u001b[38;5;21;01mbase\u001b[39;00m \u001b[38;5;28;01mimport\u001b[39;00m FormComponent\n\u001b[0;32m      7\u001b[0m \u001b[38;5;28;01mfrom\u001b[39;00m \u001b[38;5;21;01mgradio\u001b[39;00m\u001b[38;5;21;01m.\u001b[39;00m\u001b[38;5;21;01mevents\u001b[39;00m \u001b[38;5;28;01mimport\u001b[39;00m Events\n\u001b[0;32m     10\u001b[0m \u001b[38;5;28;01mclass\u001b[39;00m \u001b[38;5;21;01mSimpleDropdown\u001b[39;00m(FormComponent):\n",
      "File \u001b[1;32m~\\anaconda3\\envs\\nlp\\lib\\site-packages\\gradio\\components\\__init__.py:1\u001b[0m\n\u001b[1;32m----> 1\u001b[0m \u001b[38;5;28;01mfrom\u001b[39;00m \u001b[38;5;21;01mgradio\u001b[39;00m\u001b[38;5;21;01m.\u001b[39;00m\u001b[38;5;21;01mcomponents\u001b[39;00m\u001b[38;5;21;01m.\u001b[39;00m\u001b[38;5;21;01mannotated_image\u001b[39;00m \u001b[38;5;28;01mimport\u001b[39;00m AnnotatedImage\n\u001b[0;32m      2\u001b[0m \u001b[38;5;28;01mfrom\u001b[39;00m \u001b[38;5;21;01mgradio\u001b[39;00m\u001b[38;5;21;01m.\u001b[39;00m\u001b[38;5;21;01mcomponents\u001b[39;00m\u001b[38;5;21;01m.\u001b[39;00m\u001b[38;5;21;01maudio\u001b[39;00m \u001b[38;5;28;01mimport\u001b[39;00m Audio\n\u001b[0;32m      3\u001b[0m \u001b[38;5;28;01mfrom\u001b[39;00m \u001b[38;5;21;01mgradio\u001b[39;00m\u001b[38;5;21;01m.\u001b[39;00m\u001b[38;5;21;01mcomponents\u001b[39;00m\u001b[38;5;21;01m.\u001b[39;00m\u001b[38;5;21;01mbar_plot\u001b[39;00m \u001b[38;5;28;01mimport\u001b[39;00m BarPlot\n",
      "File \u001b[1;32m~\\anaconda3\\envs\\nlp\\lib\\site-packages\\gradio\\components\\annotated_image.py:11\u001b[0m\n\u001b[0;32m      8\u001b[0m \u001b[38;5;28;01mfrom\u001b[39;00m \u001b[38;5;21;01mgradio_client\u001b[39;00m\u001b[38;5;21;01m.\u001b[39;00m\u001b[38;5;21;01mdocumentation\u001b[39;00m \u001b[38;5;28;01mimport\u001b[39;00m document, set_documentation_group\n\u001b[0;32m      9\u001b[0m \u001b[38;5;28;01mfrom\u001b[39;00m \u001b[38;5;21;01mPIL\u001b[39;00m \u001b[38;5;28;01mimport\u001b[39;00m Image \u001b[38;5;28;01mas\u001b[39;00m _Image  \u001b[38;5;66;03m# using _ to minimize namespace pollution\u001b[39;00m\n\u001b[1;32m---> 11\u001b[0m \u001b[38;5;28;01mfrom\u001b[39;00m \u001b[38;5;21;01mgradio\u001b[39;00m \u001b[38;5;28;01mimport\u001b[39;00m processing_utils, utils\n\u001b[0;32m     12\u001b[0m \u001b[38;5;28;01mfrom\u001b[39;00m \u001b[38;5;21;01mgradio\u001b[39;00m\u001b[38;5;21;01m.\u001b[39;00m\u001b[38;5;21;01mcomponents\u001b[39;00m\u001b[38;5;21;01m.\u001b[39;00m\u001b[38;5;21;01mbase\u001b[39;00m \u001b[38;5;28;01mimport\u001b[39;00m Component\n\u001b[0;32m     13\u001b[0m \u001b[38;5;28;01mfrom\u001b[39;00m \u001b[38;5;21;01mgradio\u001b[39;00m\u001b[38;5;21;01m.\u001b[39;00m\u001b[38;5;21;01mdata_classes\u001b[39;00m \u001b[38;5;28;01mimport\u001b[39;00m FileData, GradioModel\n",
      "File \u001b[1;32m~\\anaconda3\\envs\\nlp\\lib\\site-packages\\gradio\\processing_utils.py:22\u001b[0m\n\u001b[0;32m     19\u001b[0m \u001b[38;5;28;01mfrom\u001b[39;00m \u001b[38;5;21;01mPIL\u001b[39;00m \u001b[38;5;28;01mimport\u001b[39;00m Image, ImageOps, PngImagePlugin\n\u001b[0;32m     21\u001b[0m \u001b[38;5;28;01mfrom\u001b[39;00m \u001b[38;5;21;01mgradio\u001b[39;00m \u001b[38;5;28;01mimport\u001b[39;00m wasm_utils\n\u001b[1;32m---> 22\u001b[0m \u001b[38;5;28;01mfrom\u001b[39;00m \u001b[38;5;21;01mgradio\u001b[39;00m\u001b[38;5;21;01m.\u001b[39;00m\u001b[38;5;21;01mdata_classes\u001b[39;00m \u001b[38;5;28;01mimport\u001b[39;00m FileData, GradioModel, GradioRootModel\n\u001b[0;32m     23\u001b[0m \u001b[38;5;28;01mfrom\u001b[39;00m \u001b[38;5;21;01mgradio\u001b[39;00m\u001b[38;5;21;01m.\u001b[39;00m\u001b[38;5;21;01mutils\u001b[39;00m \u001b[38;5;28;01mimport\u001b[39;00m abspath\n\u001b[0;32m     25\u001b[0m \u001b[38;5;28;01mwith\u001b[39;00m warnings\u001b[38;5;241m.\u001b[39mcatch_warnings():\n",
      "File \u001b[1;32m~\\anaconda3\\envs\\nlp\\lib\\site-packages\\gradio\\data_classes.py:12\u001b[0m\n\u001b[0;32m      9\u001b[0m \u001b[38;5;28;01mfrom\u001b[39;00m \u001b[38;5;21;01menum\u001b[39;00m \u001b[38;5;28;01mimport\u001b[39;00m Enum, auto\n\u001b[0;32m     10\u001b[0m \u001b[38;5;28;01mfrom\u001b[39;00m \u001b[38;5;21;01mtyping\u001b[39;00m \u001b[38;5;28;01mimport\u001b[39;00m Any, List, Optional, Union\n\u001b[1;32m---> 12\u001b[0m \u001b[38;5;28;01mfrom\u001b[39;00m \u001b[38;5;21;01mfastapi\u001b[39;00m \u001b[38;5;28;01mimport\u001b[39;00m Request\n\u001b[0;32m     13\u001b[0m \u001b[38;5;28;01mfrom\u001b[39;00m \u001b[38;5;21;01mgradio_client\u001b[39;00m\u001b[38;5;21;01m.\u001b[39;00m\u001b[38;5;21;01mutils\u001b[39;00m \u001b[38;5;28;01mimport\u001b[39;00m traverse\n\u001b[0;32m     14\u001b[0m \u001b[38;5;28;01mfrom\u001b[39;00m \u001b[38;5;21;01mpydantic\u001b[39;00m \u001b[38;5;28;01mimport\u001b[39;00m BaseModel, RootModel, ValidationError\n",
      "File \u001b[1;32m~\\anaconda3\\envs\\nlp\\lib\\site-packages\\fastapi\\__init__.py:7\u001b[0m\n\u001b[0;32m      3\u001b[0m __version__ \u001b[38;5;241m=\u001b[39m \u001b[38;5;124m\"\u001b[39m\u001b[38;5;124m0.105.0\u001b[39m\u001b[38;5;124m\"\u001b[39m\n\u001b[0;32m      5\u001b[0m \u001b[38;5;28;01mfrom\u001b[39;00m \u001b[38;5;21;01mstarlette\u001b[39;00m \u001b[38;5;28;01mimport\u001b[39;00m status \u001b[38;5;28;01mas\u001b[39;00m status\n\u001b[1;32m----> 7\u001b[0m \u001b[38;5;28;01mfrom\u001b[39;00m \u001b[38;5;21;01m.\u001b[39;00m\u001b[38;5;21;01mapplications\u001b[39;00m \u001b[38;5;28;01mimport\u001b[39;00m FastAPI \u001b[38;5;28;01mas\u001b[39;00m FastAPI\n\u001b[0;32m      8\u001b[0m \u001b[38;5;28;01mfrom\u001b[39;00m \u001b[38;5;21;01m.\u001b[39;00m\u001b[38;5;21;01mbackground\u001b[39;00m \u001b[38;5;28;01mimport\u001b[39;00m BackgroundTasks \u001b[38;5;28;01mas\u001b[39;00m BackgroundTasks\n\u001b[0;32m      9\u001b[0m \u001b[38;5;28;01mfrom\u001b[39;00m \u001b[38;5;21;01m.\u001b[39;00m\u001b[38;5;21;01mdatastructures\u001b[39;00m \u001b[38;5;28;01mimport\u001b[39;00m UploadFile \u001b[38;5;28;01mas\u001b[39;00m UploadFile\n",
      "File \u001b[1;32m~\\anaconda3\\envs\\nlp\\lib\\site-packages\\fastapi\\applications.py:16\u001b[0m\n\u001b[0;32m      1\u001b[0m \u001b[38;5;28;01mfrom\u001b[39;00m \u001b[38;5;21;01menum\u001b[39;00m \u001b[38;5;28;01mimport\u001b[39;00m Enum\n\u001b[0;32m      2\u001b[0m \u001b[38;5;28;01mfrom\u001b[39;00m \u001b[38;5;21;01mtyping\u001b[39;00m \u001b[38;5;28;01mimport\u001b[39;00m (\n\u001b[0;32m      3\u001b[0m     Any,\n\u001b[0;32m      4\u001b[0m     Awaitable,\n\u001b[1;32m   (...)\u001b[0m\n\u001b[0;32m     13\u001b[0m     Union,\n\u001b[0;32m     14\u001b[0m )\n\u001b[1;32m---> 16\u001b[0m \u001b[38;5;28;01mfrom\u001b[39;00m \u001b[38;5;21;01mfastapi\u001b[39;00m \u001b[38;5;28;01mimport\u001b[39;00m routing\n\u001b[0;32m     17\u001b[0m \u001b[38;5;28;01mfrom\u001b[39;00m \u001b[38;5;21;01mfastapi\u001b[39;00m\u001b[38;5;21;01m.\u001b[39;00m\u001b[38;5;21;01mdatastructures\u001b[39;00m \u001b[38;5;28;01mimport\u001b[39;00m Default, DefaultPlaceholder\n\u001b[0;32m     18\u001b[0m \u001b[38;5;28;01mfrom\u001b[39;00m \u001b[38;5;21;01mfastapi\u001b[39;00m\u001b[38;5;21;01m.\u001b[39;00m\u001b[38;5;21;01mexception_handlers\u001b[39;00m \u001b[38;5;28;01mimport\u001b[39;00m (\n\u001b[0;32m     19\u001b[0m     http_exception_handler,\n\u001b[0;32m     20\u001b[0m     request_validation_exception_handler,\n\u001b[0;32m     21\u001b[0m     websocket_request_validation_exception_handler,\n\u001b[0;32m     22\u001b[0m )\n",
      "File \u001b[1;32m~\\anaconda3\\envs\\nlp\\lib\\site-packages\\fastapi\\routing.py:22\u001b[0m\n\u001b[0;32m      7\u001b[0m \u001b[38;5;28;01mfrom\u001b[39;00m \u001b[38;5;21;01menum\u001b[39;00m \u001b[38;5;28;01mimport\u001b[39;00m Enum, IntEnum\n\u001b[0;32m      8\u001b[0m \u001b[38;5;28;01mfrom\u001b[39;00m \u001b[38;5;21;01mtyping\u001b[39;00m \u001b[38;5;28;01mimport\u001b[39;00m (\n\u001b[0;32m      9\u001b[0m     Any,\n\u001b[0;32m     10\u001b[0m     Callable,\n\u001b[1;32m   (...)\u001b[0m\n\u001b[0;32m     19\u001b[0m     Union,\n\u001b[0;32m     20\u001b[0m )\n\u001b[1;32m---> 22\u001b[0m \u001b[38;5;28;01mfrom\u001b[39;00m \u001b[38;5;21;01mfastapi\u001b[39;00m \u001b[38;5;28;01mimport\u001b[39;00m params\n\u001b[0;32m     23\u001b[0m \u001b[38;5;28;01mfrom\u001b[39;00m \u001b[38;5;21;01mfastapi\u001b[39;00m\u001b[38;5;21;01m.\u001b[39;00m\u001b[38;5;21;01m_compat\u001b[39;00m \u001b[38;5;28;01mimport\u001b[39;00m (\n\u001b[0;32m     24\u001b[0m     ModelField,\n\u001b[0;32m     25\u001b[0m     Undefined,\n\u001b[1;32m   (...)\u001b[0m\n\u001b[0;32m     29\u001b[0m     lenient_issubclass,\n\u001b[0;32m     30\u001b[0m )\n\u001b[0;32m     31\u001b[0m \u001b[38;5;28;01mfrom\u001b[39;00m \u001b[38;5;21;01mfastapi\u001b[39;00m\u001b[38;5;21;01m.\u001b[39;00m\u001b[38;5;21;01mdatastructures\u001b[39;00m \u001b[38;5;28;01mimport\u001b[39;00m Default, DefaultPlaceholder\n",
      "File \u001b[1;32m~\\anaconda3\\envs\\nlp\\lib\\site-packages\\fastapi\\params.py:5\u001b[0m\n\u001b[0;32m      2\u001b[0m \u001b[38;5;28;01mfrom\u001b[39;00m \u001b[38;5;21;01menum\u001b[39;00m \u001b[38;5;28;01mimport\u001b[39;00m Enum\n\u001b[0;32m      3\u001b[0m \u001b[38;5;28;01mfrom\u001b[39;00m \u001b[38;5;21;01mtyping\u001b[39;00m \u001b[38;5;28;01mimport\u001b[39;00m Any, Callable, Dict, List, Optional, Sequence, Union\n\u001b[1;32m----> 5\u001b[0m \u001b[38;5;28;01mfrom\u001b[39;00m \u001b[38;5;21;01mfastapi\u001b[39;00m\u001b[38;5;21;01m.\u001b[39;00m\u001b[38;5;21;01mopenapi\u001b[39;00m\u001b[38;5;21;01m.\u001b[39;00m\u001b[38;5;21;01mmodels\u001b[39;00m \u001b[38;5;28;01mimport\u001b[39;00m Example\n\u001b[0;32m      6\u001b[0m \u001b[38;5;28;01mfrom\u001b[39;00m \u001b[38;5;21;01mpydantic\u001b[39;00m\u001b[38;5;21;01m.\u001b[39;00m\u001b[38;5;21;01mfields\u001b[39;00m \u001b[38;5;28;01mimport\u001b[39;00m FieldInfo\n\u001b[0;32m      7\u001b[0m \u001b[38;5;28;01mfrom\u001b[39;00m \u001b[38;5;21;01mtyping_extensions\u001b[39;00m \u001b[38;5;28;01mimport\u001b[39;00m Annotated, deprecated\n",
      "File \u001b[1;32m~\\anaconda3\\envs\\nlp\\lib\\site-packages\\fastapi\\openapi\\models.py:4\u001b[0m\n\u001b[0;32m      1\u001b[0m \u001b[38;5;28;01mfrom\u001b[39;00m \u001b[38;5;21;01menum\u001b[39;00m \u001b[38;5;28;01mimport\u001b[39;00m Enum\n\u001b[0;32m      2\u001b[0m \u001b[38;5;28;01mfrom\u001b[39;00m \u001b[38;5;21;01mtyping\u001b[39;00m \u001b[38;5;28;01mimport\u001b[39;00m Any, Callable, Dict, Iterable, List, Optional, Set, Type, Union\n\u001b[1;32m----> 4\u001b[0m \u001b[38;5;28;01mfrom\u001b[39;00m \u001b[38;5;21;01mfastapi\u001b[39;00m\u001b[38;5;21;01m.\u001b[39;00m\u001b[38;5;21;01m_compat\u001b[39;00m \u001b[38;5;28;01mimport\u001b[39;00m (\n\u001b[0;32m      5\u001b[0m     PYDANTIC_V2,\n\u001b[0;32m      6\u001b[0m     CoreSchema,\n\u001b[0;32m      7\u001b[0m     GetJsonSchemaHandler,\n\u001b[0;32m      8\u001b[0m     JsonSchemaValue,\n\u001b[0;32m      9\u001b[0m     _model_rebuild,\n\u001b[0;32m     10\u001b[0m     with_info_plain_validator_function,\n\u001b[0;32m     11\u001b[0m )\n\u001b[0;32m     12\u001b[0m \u001b[38;5;28;01mfrom\u001b[39;00m \u001b[38;5;21;01mfastapi\u001b[39;00m\u001b[38;5;21;01m.\u001b[39;00m\u001b[38;5;21;01mlogger\u001b[39;00m \u001b[38;5;28;01mimport\u001b[39;00m logger\n\u001b[0;32m     13\u001b[0m \u001b[38;5;28;01mfrom\u001b[39;00m \u001b[38;5;21;01mpydantic\u001b[39;00m \u001b[38;5;28;01mimport\u001b[39;00m AnyUrl, BaseModel, Field\n",
      "File \u001b[1;32m~\\anaconda3\\envs\\nlp\\lib\\site-packages\\fastapi\\_compat.py:20\u001b[0m\n\u001b[0;32m      4\u001b[0m \u001b[38;5;28;01mfrom\u001b[39;00m \u001b[38;5;21;01menum\u001b[39;00m \u001b[38;5;28;01mimport\u001b[39;00m Enum\n\u001b[0;32m      5\u001b[0m \u001b[38;5;28;01mfrom\u001b[39;00m \u001b[38;5;21;01mtyping\u001b[39;00m \u001b[38;5;28;01mimport\u001b[39;00m (\n\u001b[0;32m      6\u001b[0m     Any,\n\u001b[0;32m      7\u001b[0m     Callable,\n\u001b[1;32m   (...)\u001b[0m\n\u001b[0;32m     17\u001b[0m     Union,\n\u001b[0;32m     18\u001b[0m )\n\u001b[1;32m---> 20\u001b[0m \u001b[38;5;28;01mfrom\u001b[39;00m \u001b[38;5;21;01mfastapi\u001b[39;00m\u001b[38;5;21;01m.\u001b[39;00m\u001b[38;5;21;01mexceptions\u001b[39;00m \u001b[38;5;28;01mimport\u001b[39;00m RequestErrorModel\n\u001b[0;32m     21\u001b[0m \u001b[38;5;28;01mfrom\u001b[39;00m \u001b[38;5;21;01mfastapi\u001b[39;00m\u001b[38;5;21;01m.\u001b[39;00m\u001b[38;5;21;01mtypes\u001b[39;00m \u001b[38;5;28;01mimport\u001b[39;00m IncEx, ModelNameMap, UnionType\n\u001b[0;32m     22\u001b[0m \u001b[38;5;28;01mfrom\u001b[39;00m \u001b[38;5;21;01mpydantic\u001b[39;00m \u001b[38;5;28;01mimport\u001b[39;00m BaseModel, create_model\n",
      "File \u001b[1;32m~\\anaconda3\\envs\\nlp\\lib\\site-packages\\fastapi\\exceptions.py:6\u001b[0m\n\u001b[0;32m      4\u001b[0m \u001b[38;5;28;01mfrom\u001b[39;00m \u001b[38;5;21;01mstarlette\u001b[39;00m\u001b[38;5;21;01m.\u001b[39;00m\u001b[38;5;21;01mexceptions\u001b[39;00m \u001b[38;5;28;01mimport\u001b[39;00m HTTPException \u001b[38;5;28;01mas\u001b[39;00m StarletteHTTPException\n\u001b[0;32m      5\u001b[0m \u001b[38;5;28;01mfrom\u001b[39;00m \u001b[38;5;21;01mstarlette\u001b[39;00m\u001b[38;5;21;01m.\u001b[39;00m\u001b[38;5;21;01mexceptions\u001b[39;00m \u001b[38;5;28;01mimport\u001b[39;00m WebSocketException \u001b[38;5;28;01mas\u001b[39;00m StarletteWebSocketException\n\u001b[1;32m----> 6\u001b[0m \u001b[38;5;28;01mfrom\u001b[39;00m \u001b[38;5;21;01mtyping_extensions\u001b[39;00m \u001b[38;5;28;01mimport\u001b[39;00m Annotated, Doc  \u001b[38;5;66;03m# type: ignore [attr-defined]\u001b[39;00m\n\u001b[0;32m      9\u001b[0m \u001b[38;5;28;01mclass\u001b[39;00m \u001b[38;5;21;01mHTTPException\u001b[39;00m(StarletteHTTPException):\n\u001b[0;32m     10\u001b[0m \u001b[38;5;250m    \u001b[39m\u001b[38;5;124;03m\"\"\"\u001b[39;00m\n\u001b[0;32m     11\u001b[0m \u001b[38;5;124;03m    An HTTP exception you can raise in your own code to show errors to the client.\u001b[39;00m\n\u001b[0;32m     12\u001b[0m \n\u001b[1;32m   (...)\u001b[0m\n\u001b[0;32m     34\u001b[0m \u001b[38;5;124;03m    ```\u001b[39;00m\n\u001b[0;32m     35\u001b[0m \u001b[38;5;124;03m    \"\"\"\u001b[39;00m\n",
      "\u001b[1;31mImportError\u001b[0m: cannot import name 'Doc' from 'typing_extensions' (C:\\Users\\Ons\\anaconda3\\envs\\nlp\\lib\\site-packages\\typing_extensions.py)"
     ]
    }
   ],
   "source": [
    "import tensorflow as tf\n",
    "import gradio as gr"
   ]
  },
  {
   "cell_type": "code",
   "execution_count": null,
   "metadata": {
    "tags": []
   },
   "outputs": [],
   "source": [
    "model.save('toxicity.h5')"
   ]
  },
  {
   "cell_type": "code",
   "execution_count": null,
   "metadata": {
    "tags": []
   },
   "outputs": [],
   "source": [
    "model = tf.keras.models.load_model('toxicity.h5')"
   ]
  },
  {
   "cell_type": "code",
   "execution_count": null,
   "metadata": {
    "tags": []
   },
   "outputs": [],
   "source": [
    "input_str = vectorizer('hey i freaken hate you!')"
   ]
  },
  {
   "cell_type": "code",
   "execution_count": null,
   "metadata": {
    "tags": []
   },
   "outputs": [],
   "source": [
    "res = model.predict(np.expand_dims(input_str,0))"
   ]
  },
  {
   "cell_type": "code",
   "execution_count": null,
   "metadata": {
    "tags": []
   },
   "outputs": [],
   "source": [
    "res"
   ]
  },
  {
   "cell_type": "code",
   "execution_count": null,
   "metadata": {
    "tags": []
   },
   "outputs": [],
   "source": [
    "def score_comment(comment):\n",
    "    vectorized_comment = vectorizer([comment])\n",
    "    results = model.predict(vectorized_comment)\n",
    "    \n",
    "    text = ''\n",
    "    for idx, col in enumerate(df.columns[2:]):\n",
    "        text += '{}: {}\\n'.format(col, results[0][idx]>0.5)\n",
    "    \n",
    "    return text"
   ]
  },
  {
   "cell_type": "code",
   "execution_count": null,
   "metadata": {
    "tags": []
   },
   "outputs": [],
   "source": [
    "interface = gr.Interface(fn=score_comment, \n",
    "                         inputs=gr.inputs.Textbox(lines=2, placeholder='Comment to score'),\n",
    "                        outputs='text')"
   ]
  },
  {
   "cell_type": "code",
   "execution_count": null,
   "metadata": {
    "tags": []
   },
   "outputs": [],
   "source": [
    "interface.launch(share=True)"
   ]
  }
 ],
 "metadata": {
  "kernelspec": {
   "display_name": "Python 3 (ipykernel)",
   "language": "python",
   "name": "python3"
  },
  "language_info": {
   "codemirror_mode": {
    "name": "ipython",
    "version": 3
   },
   "file_extension": ".py",
   "mimetype": "text/x-python",
   "name": "python",
   "nbconvert_exporter": "python",
   "pygments_lexer": "ipython3",
   "version": "3.10.13"
  }
 },
 "nbformat": 4,
 "nbformat_minor": 4
}
